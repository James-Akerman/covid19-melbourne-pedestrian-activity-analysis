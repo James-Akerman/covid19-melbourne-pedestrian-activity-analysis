{
 "cells": [
  {
   "cell_type": "code",
   "execution_count": 1,
   "id": "27f067c2",
   "metadata": {},
   "outputs": [],
   "source": [
    "# Set everything up\n",
    "import json\n",
    "import requests\n",
    "from pprint import pprint \n"
   ]
  },
  {
   "cell_type": "code",
   "execution_count": 2,
   "id": "347efaa8",
   "metadata": {},
   "outputs": [
    {
     "name": "stdout",
     "output_type": "stream",
     "text": [
      "{'id': '9aff9050-190a-11ec-bc96-0a580a800823',\n",
      " 'message': 'Internal Server Error'}\n"
     ]
    }
   ],
   "source": [
    "# Documentation\n",
    "# https://www.developer.vic.gov.au/index.php?option=com_apiportal&view=apitester&usage=api&tab=tests&apiName=ABS+Labour+Force+API&apiId=2a59f1cd-d7f9-4d07-9d61-ad30c0e6bc8c&managerId=1&type=rest&apiVersion=1.0.0&menuId=153&renderTool=1#!/v1.0/GET_labour_force_statistics\n",
    "# Example API request\n",
    "api = \"https://wovg-community.gateway.prod.api.vic.gov.au/abs/v1.0/labour-force-statistics?\"\n",
    "region = \"VICTORIA\"\n",
    "data_item = \"LABOUR_FORCE_FULL_TIME\"\n",
    "age = \"15_AND_OVER\"\n",
    "start_period = \"2019-08\"\n",
    "end_period = \"2021-09\"\n",
    "api_key = \"98411139-c37b-46f2-a981-7777956b0863\"\n",
    "\n",
    "url = api + \"region=\" + region + \"&data_item=\" + data_item + \"&age=\" + age + \"&start_period=\" + start_period + \"&end_period=\" + end_period\n",
    "\n",
    "headers = {\n",
    "    \"Content-Type\": \"application/json\",\n",
    "    \"Accept\": \"application/json\",\n",
    "    \"apikey\": api_key\n",
    "}\n",
    "\n",
    "response = requests.get(url, headers=headers).json()\n",
    "\n",
    "# Print Response\n",
    "pprint(response)"
   ]
  },
  {
   "cell_type": "code",
   "execution_count": null,
   "id": "e7e529ef",
   "metadata": {},
   "outputs": [],
   "source": []
  }
 ],
 "metadata": {
  "kernelspec": {
   "display_name": "Python 3",
   "language": "python",
   "name": "python3"
  },
  "language_info": {
   "codemirror_mode": {
    "name": "ipython",
    "version": 3
   },
   "file_extension": ".py",
   "mimetype": "text/x-python",
   "name": "python",
   "nbconvert_exporter": "python",
   "pygments_lexer": "ipython3",
   "version": "3.8.8"
  }
 },
 "nbformat": 4,
 "nbformat_minor": 5
}

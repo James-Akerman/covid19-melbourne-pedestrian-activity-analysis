{
 "cells": [
  {
   "cell_type": "code",
   "execution_count": 1,
   "id": "845cf5b3",
   "metadata": {},
   "outputs": [],
   "source": [
    "import pandas as pd\n",
    "import os\n",
    "import scipy.stats as stats"
   ]
  },
  {
   "cell_type": "code",
   "execution_count": 2,
   "id": "00610ae0",
   "metadata": {},
   "outputs": [],
   "source": [
    "file = 'ped_data.csv'\n",
    "fileb = 't_test.csv'"
   ]
  },
  {
   "cell_type": "code",
   "execution_count": 3,
   "id": "605191bc",
   "metadata": {},
   "outputs": [],
   "source": [
    "df = pd.read_csv(file)\n",
    "df2 = pd.read_csv(fileb)"
   ]
  },
  {
   "cell_type": "code",
   "execution_count": 4,
   "id": "3e9e80e2",
   "metadata": {},
   "outputs": [],
   "source": [
    "# DATA CLEANSING STEPS PERFORMED SEPERATELY AS FOLLOWS\n",
    "# Step1: CSV files with hourly data per month was downloaded from http://www.pedestrian.melbourne.vic.gov.au/\n",
    "# Step2: SUM and Average functions were used in csv files to get total amount of pedestrians for that month per sensor.\n",
    "# Step3: A new csv file was created where the final total results from above were copied\n",
    "# Step4: that final csv file was stored as ped_data.csv\n",
    "# Step5: ped_data.csv was opened in this jupyter notebook"
   ]
  },
  {
   "cell_type": "code",
   "execution_count": 5,
   "id": "a73b2de8",
   "metadata": {},
   "outputs": [
    {
     "data": {
      "text/html": [
       "<div>\n",
       "<style scoped>\n",
       "    .dataframe tbody tr th:only-of-type {\n",
       "        vertical-align: middle;\n",
       "    }\n",
       "\n",
       "    .dataframe tbody tr th {\n",
       "        vertical-align: top;\n",
       "    }\n",
       "\n",
       "    .dataframe thead th {\n",
       "        text-align: right;\n",
       "    }\n",
       "</style>\n",
       "<table border=\"1\" class=\"dataframe\">\n",
       "  <thead>\n",
       "    <tr style=\"text-align: right;\">\n",
       "      <th></th>\n",
       "      <th>Bourke Street Mall (North)</th>\n",
       "      <th>Bourke Street Mall (South)</th>\n",
       "      <th>Melbourne Central</th>\n",
       "      <th>Town Hall (West)</th>\n",
       "      <th>Princes Bridge</th>\n",
       "      <th>Flinders Street Station Underpass</th>\n",
       "      <th>Birrarung Marr</th>\n",
       "      <th>Webb Bridge</th>\n",
       "      <th>Southern Cross Station</th>\n",
       "      <th>Victoria Point</th>\n",
       "      <th>...</th>\n",
       "      <th>QVM-Queen St (East)</th>\n",
       "      <th>QVM-Therry St (South)</th>\n",
       "      <th>Faraday St-Lygon St (West)</th>\n",
       "      <th>QVM-Franklin St (North)</th>\n",
       "      <th>Elizabeth St-Lonsdale St (South)</th>\n",
       "      <th>Lonsdale St - Elizabeth St (North)</th>\n",
       "      <th>Bourke St Bridge</th>\n",
       "      <th>Bourke St - Spencer St (North)</th>\n",
       "      <th>RMIT Bld 80 - 445 Swanston Street</th>\n",
       "      <th>RMIT Building 14</th>\n",
       "    </tr>\n",
       "    <tr>\n",
       "      <th>Month</th>\n",
       "      <th></th>\n",
       "      <th></th>\n",
       "      <th></th>\n",
       "      <th></th>\n",
       "      <th></th>\n",
       "      <th></th>\n",
       "      <th></th>\n",
       "      <th></th>\n",
       "      <th></th>\n",
       "      <th></th>\n",
       "      <th></th>\n",
       "      <th></th>\n",
       "      <th></th>\n",
       "      <th></th>\n",
       "      <th></th>\n",
       "      <th></th>\n",
       "      <th></th>\n",
       "      <th></th>\n",
       "      <th></th>\n",
       "      <th></th>\n",
       "      <th></th>\n",
       "    </tr>\n",
       "  </thead>\n",
       "  <tbody>\n",
       "    <tr>\n",
       "      <th>Aug-19</th>\n",
       "      <td>906524</td>\n",
       "      <td>641786</td>\n",
       "      <td>981893</td>\n",
       "      <td>1064689</td>\n",
       "      <td>963378</td>\n",
       "      <td>1051024</td>\n",
       "      <td>324456</td>\n",
       "      <td>144995</td>\n",
       "      <td>621153</td>\n",
       "      <td>155030</td>\n",
       "      <td>...</td>\n",
       "      <td>206593</td>\n",
       "      <td>137175</td>\n",
       "      <td>193302</td>\n",
       "      <td>99286</td>\n",
       "      <td>325035</td>\n",
       "      <td>254486</td>\n",
       "      <td>858474</td>\n",
       "      <td>628506</td>\n",
       "      <td>141713</td>\n",
       "      <td>510872</td>\n",
       "    </tr>\n",
       "    <tr>\n",
       "      <th>Sep-19</th>\n",
       "      <td>943758</td>\n",
       "      <td>643780</td>\n",
       "      <td>869674</td>\n",
       "      <td>971314</td>\n",
       "      <td>925437</td>\n",
       "      <td>1008301</td>\n",
       "      <td>234247</td>\n",
       "      <td>140767</td>\n",
       "      <td>561236</td>\n",
       "      <td>131512</td>\n",
       "      <td>...</td>\n",
       "      <td>179612</td>\n",
       "      <td>93315</td>\n",
       "      <td>184283</td>\n",
       "      <td>87344</td>\n",
       "      <td>313040</td>\n",
       "      <td>233348</td>\n",
       "      <td>484876</td>\n",
       "      <td>560959</td>\n",
       "      <td>113007</td>\n",
       "      <td>412081</td>\n",
       "    </tr>\n",
       "    <tr>\n",
       "      <th>Oct-19</th>\n",
       "      <td>1028680</td>\n",
       "      <td>495941</td>\n",
       "      <td>919196</td>\n",
       "      <td>1047185</td>\n",
       "      <td>1028103</td>\n",
       "      <td>1151297</td>\n",
       "      <td>187355</td>\n",
       "      <td>58490</td>\n",
       "      <td>638247</td>\n",
       "      <td>148089</td>\n",
       "      <td>...</td>\n",
       "      <td>194461</td>\n",
       "      <td>94980</td>\n",
       "      <td>205178</td>\n",
       "      <td>101168</td>\n",
       "      <td>332225</td>\n",
       "      <td>237426</td>\n",
       "      <td>501533</td>\n",
       "      <td>632111</td>\n",
       "      <td>133967</td>\n",
       "      <td>459405</td>\n",
       "    </tr>\n",
       "    <tr>\n",
       "      <th>Nov-19</th>\n",
       "      <td>1037267</td>\n",
       "      <td>744945</td>\n",
       "      <td>901523</td>\n",
       "      <td>1074747</td>\n",
       "      <td>673975</td>\n",
       "      <td>1105507</td>\n",
       "      <td>320914</td>\n",
       "      <td>137894</td>\n",
       "      <td>536947</td>\n",
       "      <td>134803</td>\n",
       "      <td>...</td>\n",
       "      <td>205257</td>\n",
       "      <td>135467</td>\n",
       "      <td>205253</td>\n",
       "      <td>94935</td>\n",
       "      <td>328209</td>\n",
       "      <td>198465</td>\n",
       "      <td>551299</td>\n",
       "      <td>598612</td>\n",
       "      <td>96558</td>\n",
       "      <td>323670</td>\n",
       "    </tr>\n",
       "    <tr>\n",
       "      <th>Dec-19</th>\n",
       "      <td>1192463</td>\n",
       "      <td>927155</td>\n",
       "      <td>911297</td>\n",
       "      <td>1244392</td>\n",
       "      <td>1068849</td>\n",
       "      <td>1187116</td>\n",
       "      <td>209137</td>\n",
       "      <td>146964</td>\n",
       "      <td>442756</td>\n",
       "      <td>118303</td>\n",
       "      <td>...</td>\n",
       "      <td>207353</td>\n",
       "      <td>132729</td>\n",
       "      <td>223789</td>\n",
       "      <td>97110</td>\n",
       "      <td>310402</td>\n",
       "      <td>250344</td>\n",
       "      <td>381784</td>\n",
       "      <td>545728</td>\n",
       "      <td>83645</td>\n",
       "      <td>266536</td>\n",
       "    </tr>\n",
       "  </tbody>\n",
       "</table>\n",
       "<p>5 rows × 47 columns</p>\n",
       "</div>"
      ],
      "text/plain": [
       "        Bourke Street Mall (North)  Bourke Street Mall (South)  \\\n",
       "Month                                                            \n",
       "Aug-19                      906524                      641786   \n",
       "Sep-19                      943758                      643780   \n",
       "Oct-19                     1028680                      495941   \n",
       "Nov-19                     1037267                      744945   \n",
       "Dec-19                     1192463                      927155   \n",
       "\n",
       "        Melbourne Central  Town Hall (West)  Princes Bridge  \\\n",
       "Month                                                         \n",
       "Aug-19             981893           1064689          963378   \n",
       "Sep-19             869674            971314          925437   \n",
       "Oct-19             919196           1047185         1028103   \n",
       "Nov-19             901523           1074747          673975   \n",
       "Dec-19             911297           1244392         1068849   \n",
       "\n",
       "        Flinders Street Station Underpass  Birrarung Marr  Webb Bridge  \\\n",
       "Month                                                                    \n",
       "Aug-19                            1051024          324456       144995   \n",
       "Sep-19                            1008301          234247       140767   \n",
       "Oct-19                            1151297          187355        58490   \n",
       "Nov-19                            1105507          320914       137894   \n",
       "Dec-19                            1187116          209137       146964   \n",
       "\n",
       "        Southern Cross Station  Victoria Point  ...  QVM-Queen St (East)  \\\n",
       "Month                                           ...                        \n",
       "Aug-19                  621153          155030  ...               206593   \n",
       "Sep-19                  561236          131512  ...               179612   \n",
       "Oct-19                  638247          148089  ...               194461   \n",
       "Nov-19                  536947          134803  ...               205257   \n",
       "Dec-19                  442756          118303  ...               207353   \n",
       "\n",
       "        QVM-Therry St (South)  Faraday St-Lygon St (West)  \\\n",
       "Month                                                       \n",
       "Aug-19                 137175                      193302   \n",
       "Sep-19                  93315                      184283   \n",
       "Oct-19                  94980                      205178   \n",
       "Nov-19                 135467                      205253   \n",
       "Dec-19                 132729                      223789   \n",
       "\n",
       "        QVM-Franklin St (North)  Elizabeth St-Lonsdale St (South)  \\\n",
       "Month                                                               \n",
       "Aug-19                    99286                            325035   \n",
       "Sep-19                    87344                            313040   \n",
       "Oct-19                   101168                            332225   \n",
       "Nov-19                    94935                            328209   \n",
       "Dec-19                    97110                            310402   \n",
       "\n",
       "        Lonsdale St - Elizabeth St (North)  Bourke St Bridge  \\\n",
       "Month                                                          \n",
       "Aug-19                              254486            858474   \n",
       "Sep-19                              233348            484876   \n",
       "Oct-19                              237426            501533   \n",
       "Nov-19                              198465            551299   \n",
       "Dec-19                              250344            381784   \n",
       "\n",
       "        Bourke St - Spencer St (North)  RMIT Bld 80 - 445 Swanston Street  \\\n",
       "Month                                                                       \n",
       "Aug-19                          628506                             141713   \n",
       "Sep-19                          560959                             113007   \n",
       "Oct-19                          632111                             133967   \n",
       "Nov-19                          598612                              96558   \n",
       "Dec-19                          545728                              83645   \n",
       "\n",
       "        RMIT Building 14  \n",
       "Month                     \n",
       "Aug-19            510872  \n",
       "Sep-19            412081  \n",
       "Oct-19            459405  \n",
       "Nov-19            323670  \n",
       "Dec-19            266536  \n",
       "\n",
       "[5 rows x 47 columns]"
      ]
     },
     "execution_count": 5,
     "metadata": {},
     "output_type": "execute_result"
    }
   ],
   "source": [
    "#printing the dataframe head\n",
    "df.set_index('Month').head()\n"
   ]
  },
  {
   "cell_type": "code",
   "execution_count": 6,
   "id": "945611f9",
   "metadata": {},
   "outputs": [
    {
     "data": {
      "text/plain": [
       "1192463"
      ]
     },
     "execution_count": 6,
     "metadata": {},
     "output_type": "execute_result"
    }
   ],
   "source": [
    "df['Bourke Street Mall (North)'].max()"
   ]
  },
  {
   "cell_type": "code",
   "execution_count": 7,
   "id": "746b4cd9",
   "metadata": {},
   "outputs": [
    {
     "data": {
      "text/plain": [
       "70531"
      ]
     },
     "execution_count": 7,
     "metadata": {},
     "output_type": "execute_result"
    }
   ],
   "source": [
    "df['Bourke Street Mall (North)'].min()"
   ]
  },
  {
   "cell_type": "code",
   "execution_count": 8,
   "id": "14cb00fe",
   "metadata": {},
   "outputs": [],
   "source": [
    "# creating empty lists\n",
    "maxall = []\n",
    "minall = []\n",
    "columns = []\n",
    "dif = []"
   ]
  },
  {
   "cell_type": "code",
   "execution_count": 9,
   "id": "b4b829d5",
   "metadata": {},
   "outputs": [],
   "source": [
    "#gathering all column names in a list\n",
    "for column in df.columns:\n",
    "    columns.append(column)"
   ]
  },
  {
   "cell_type": "code",
   "execution_count": 10,
   "id": "38f3bb75",
   "metadata": {},
   "outputs": [
    {
     "data": {
      "text/plain": [
       "'Month'"
      ]
     },
     "execution_count": 10,
     "metadata": {},
     "output_type": "execute_result"
    }
   ],
   "source": [
    "#removing month column\n",
    "columns.pop(0)"
   ]
  },
  {
   "cell_type": "code",
   "execution_count": 11,
   "id": "b919a3c2",
   "metadata": {},
   "outputs": [],
   "source": [
    "# creating max list\n",
    "for i in columns:\n",
    "    maxall.append(df[i].max())"
   ]
  },
  {
   "cell_type": "code",
   "execution_count": 12,
   "id": "09f4f7e7",
   "metadata": {},
   "outputs": [],
   "source": [
    "#creating min list\n",
    "for i in columns:\n",
    "    minall.append(df[i].min())"
   ]
  },
  {
   "cell_type": "code",
   "execution_count": 13,
   "id": "55645dc1",
   "metadata": {},
   "outputs": [
    {
     "data": {
      "text/plain": [
       "47"
      ]
     },
     "execution_count": 13,
     "metadata": {},
     "output_type": "execute_result"
    }
   ],
   "source": [
    "len(columns)"
   ]
  },
  {
   "cell_type": "code",
   "execution_count": 14,
   "id": "4ae44480",
   "metadata": {},
   "outputs": [],
   "source": [
    "for x, y in zip(maxall, minall):\n",
    "    dif.append((x-y)*100/x)"
   ]
  },
  {
   "cell_type": "code",
   "execution_count": 15,
   "id": "2c4a0e2d",
   "metadata": {},
   "outputs": [
    {
     "name": "stdout",
     "output_type": "stream",
     "text": [
      "35\n"
     ]
    }
   ],
   "source": [
    "# to find greatest drop in number\n",
    "greatest = 0\n",
    "for x in dif:\n",
    "    if x > greatest:\n",
    "        greatest = x\n",
    "\n",
    "print(dif.index(greatest))"
   ]
  },
  {
   "cell_type": "code",
   "execution_count": 16,
   "id": "94bee9d7",
   "metadata": {},
   "outputs": [
    {
     "data": {
      "text/plain": [
       "'Pelham St (South)'"
      ]
     },
     "execution_count": 16,
     "metadata": {},
     "output_type": "execute_result"
    }
   ],
   "source": [
    "columns[35]"
   ]
  },
  {
   "cell_type": "code",
   "execution_count": 17,
   "id": "eb0eb7e1",
   "metadata": {},
   "outputs": [
    {
     "name": "stdout",
     "output_type": "stream",
     "text": [
      "38\n"
     ]
    }
   ],
   "source": [
    "#to find least drop\n",
    "smallest = greatest\n",
    "for x in dif:\n",
    "    if x < smallest:\n",
    "        smallest = x\n",
    "\n",
    "print(dif.index(smallest))"
   ]
  },
  {
   "cell_type": "code",
   "execution_count": 18,
   "id": "a575891a",
   "metadata": {},
   "outputs": [
    {
     "name": "stdout",
     "output_type": "stream",
     "text": [
      "The largest drop of 97.85764724187042 percent was recorded at Pelham St (South)\n",
      "The smallest drop of 56.55476581009659 percent was recorded in QVM-Therry St (South)\n"
     ]
    }
   ],
   "source": [
    "print('The largest drop of ' + str(greatest) + ' percent was recorded at ' + str(columns[35]))\n",
    "print('The smallest drop of ' + str(smallest) + ' percent was recorded in ' + str(columns[38]))"
   ]
  },
  {
   "cell_type": "code",
   "execution_count": 19,
   "id": "f4d57e46",
   "metadata": {},
   "outputs": [
    {
     "data": {
      "text/plain": [
       "137175"
      ]
     },
     "execution_count": 19,
     "metadata": {},
     "output_type": "execute_result"
    }
   ],
   "source": [
    "maxall[38]"
   ]
  },
  {
   "cell_type": "code",
   "execution_count": 20,
   "id": "cedc8d6f",
   "metadata": {},
   "outputs": [
    {
     "data": {
      "text/plain": [
       "87.24970885026167"
      ]
     },
     "execution_count": 20,
     "metadata": {},
     "output_type": "execute_result"
    }
   ],
   "source": [
    "totaldif = 0\n",
    "for x in dif:\n",
    "    totaldif = totaldif + x\n",
    "averagedrop = totaldif/len(dif)\n",
    "averagedrop"
   ]
  },
  {
   "cell_type": "code",
   "execution_count": 21,
   "id": "8cc43d63",
   "metadata": {},
   "outputs": [
    {
     "data": {
      "text/html": [
       "<div>\n",
       "<style scoped>\n",
       "    .dataframe tbody tr th:only-of-type {\n",
       "        vertical-align: middle;\n",
       "    }\n",
       "\n",
       "    .dataframe tbody tr th {\n",
       "        vertical-align: top;\n",
       "    }\n",
       "\n",
       "    .dataframe thead th {\n",
       "        text-align: right;\n",
       "    }\n",
       "</style>\n",
       "<table border=\"1\" class=\"dataframe\">\n",
       "  <thead>\n",
       "    <tr style=\"text-align: right;\">\n",
       "      <th></th>\n",
       "      <th>Total</th>\n",
       "      <th>QVM-Therry St (South)</th>\n",
       "      <th>Pelham St (South)</th>\n",
       "    </tr>\n",
       "  </thead>\n",
       "  <tbody>\n",
       "    <tr>\n",
       "      <th>0</th>\n",
       "      <td>20514686</td>\n",
       "      <td>137175</td>\n",
       "      <td>83553</td>\n",
       "    </tr>\n",
       "    <tr>\n",
       "      <th>1</th>\n",
       "      <td>18400508</td>\n",
       "      <td>93315</td>\n",
       "      <td>77593</td>\n",
       "    </tr>\n",
       "    <tr>\n",
       "      <th>2</th>\n",
       "      <td>19559400</td>\n",
       "      <td>94980</td>\n",
       "      <td>77533</td>\n",
       "    </tr>\n",
       "    <tr>\n",
       "      <th>3</th>\n",
       "      <td>19096264</td>\n",
       "      <td>135467</td>\n",
       "      <td>66638</td>\n",
       "    </tr>\n",
       "    <tr>\n",
       "      <th>4</th>\n",
       "      <td>19391486</td>\n",
       "      <td>132729</td>\n",
       "      <td>40181</td>\n",
       "    </tr>\n",
       "    <tr>\n",
       "      <th>5</th>\n",
       "      <td>18109838</td>\n",
       "      <td>101256</td>\n",
       "      <td>42714</td>\n",
       "    </tr>\n",
       "    <tr>\n",
       "      <th>6</th>\n",
       "      <td>16858818</td>\n",
       "      <td>95164</td>\n",
       "      <td>56911</td>\n",
       "    </tr>\n",
       "    <tr>\n",
       "      <th>7</th>\n",
       "      <td>12495970</td>\n",
       "      <td>85517</td>\n",
       "      <td>59855</td>\n",
       "    </tr>\n",
       "    <tr>\n",
       "      <th>8</th>\n",
       "      <td>2942258</td>\n",
       "      <td>63224</td>\n",
       "      <td>12079</td>\n",
       "    </tr>\n",
       "    <tr>\n",
       "      <th>9</th>\n",
       "      <td>4536450</td>\n",
       "      <td>80665</td>\n",
       "      <td>15479</td>\n",
       "    </tr>\n",
       "    <tr>\n",
       "      <th>10</th>\n",
       "      <td>6285049</td>\n",
       "      <td>78411</td>\n",
       "      <td>18768</td>\n",
       "    </tr>\n",
       "    <tr>\n",
       "      <th>11</th>\n",
       "      <td>4005612</td>\n",
       "      <td>66832</td>\n",
       "      <td>17197</td>\n",
       "    </tr>\n",
       "    <tr>\n",
       "      <th>12</th>\n",
       "      <td>2356316</td>\n",
       "      <td>63432</td>\n",
       "      <td>12052</td>\n",
       "    </tr>\n",
       "    <tr>\n",
       "      <th>13</th>\n",
       "      <td>2681026</td>\n",
       "      <td>65631</td>\n",
       "      <td>12755</td>\n",
       "    </tr>\n",
       "    <tr>\n",
       "      <th>14</th>\n",
       "      <td>3648305</td>\n",
       "      <td>73589</td>\n",
       "      <td>1790</td>\n",
       "    </tr>\n",
       "    <tr>\n",
       "      <th>15</th>\n",
       "      <td>7031784</td>\n",
       "      <td>71529</td>\n",
       "      <td>12110</td>\n",
       "    </tr>\n",
       "    <tr>\n",
       "      <th>16</th>\n",
       "      <td>9786726</td>\n",
       "      <td>73107</td>\n",
       "      <td>18107</td>\n",
       "    </tr>\n",
       "    <tr>\n",
       "      <th>17</th>\n",
       "      <td>8038037</td>\n",
       "      <td>65809</td>\n",
       "      <td>17925</td>\n",
       "    </tr>\n",
       "    <tr>\n",
       "      <th>18</th>\n",
       "      <td>6942036</td>\n",
       "      <td>61117</td>\n",
       "      <td>18163</td>\n",
       "    </tr>\n",
       "    <tr>\n",
       "      <th>19</th>\n",
       "      <td>10168966</td>\n",
       "      <td>64460</td>\n",
       "      <td>33885</td>\n",
       "    </tr>\n",
       "    <tr>\n",
       "      <th>20</th>\n",
       "      <td>11389823</td>\n",
       "      <td>71901</td>\n",
       "      <td>29498</td>\n",
       "    </tr>\n",
       "    <tr>\n",
       "      <th>21</th>\n",
       "      <td>9544418</td>\n",
       "      <td>72130</td>\n",
       "      <td>33566</td>\n",
       "    </tr>\n",
       "    <tr>\n",
       "      <th>22</th>\n",
       "      <td>6219415</td>\n",
       "      <td>66715</td>\n",
       "      <td>17181</td>\n",
       "    </tr>\n",
       "    <tr>\n",
       "      <th>23</th>\n",
       "      <td>7496519</td>\n",
       "      <td>71023</td>\n",
       "      <td>20477</td>\n",
       "    </tr>\n",
       "    <tr>\n",
       "      <th>24</th>\n",
       "      <td>3878260</td>\n",
       "      <td>59596</td>\n",
       "      <td>15812</td>\n",
       "    </tr>\n",
       "  </tbody>\n",
       "</table>\n",
       "</div>"
      ],
      "text/plain": [
       "       Total  QVM-Therry St (South)  Pelham St (South)\n",
       "0   20514686                 137175              83553\n",
       "1   18400508                  93315              77593\n",
       "2   19559400                  94980              77533\n",
       "3   19096264                 135467              66638\n",
       "4   19391486                 132729              40181\n",
       "5   18109838                 101256              42714\n",
       "6   16858818                  95164              56911\n",
       "7   12495970                  85517              59855\n",
       "8    2942258                  63224              12079\n",
       "9    4536450                  80665              15479\n",
       "10   6285049                  78411              18768\n",
       "11   4005612                  66832              17197\n",
       "12   2356316                  63432              12052\n",
       "13   2681026                  65631              12755\n",
       "14   3648305                  73589               1790\n",
       "15   7031784                  71529              12110\n",
       "16   9786726                  73107              18107\n",
       "17   8038037                  65809              17925\n",
       "18   6942036                  61117              18163\n",
       "19  10168966                  64460              33885\n",
       "20  11389823                  71901              29498\n",
       "21   9544418                  72130              33566\n",
       "22   6219415                  66715              17181\n",
       "23   7496519                  71023              20477\n",
       "24   3878260                  59596              15812"
      ]
     },
     "execution_count": 21,
     "metadata": {},
     "output_type": "execute_result"
    }
   ],
   "source": [
    "# creating a DataFrame for ttest\n",
    "df2['QVM-Therry St (South)'] = df['QVM-Therry St (South)']\n",
    "df2['Pelham St (South)'] = df['Pelham St (South)']\n",
    "df2"
   ]
  },
  {
   "cell_type": "code",
   "execution_count": 22,
   "id": "1c1f1a6b",
   "metadata": {},
   "outputs": [],
   "source": [
    "df2.to_csv('abc.csv')"
   ]
  },
  {
   "cell_type": "code",
   "execution_count": 23,
   "id": "8831a4d2",
   "metadata": {},
   "outputs": [
    {
     "data": {
      "text/plain": [
       "Ttest_indResult(statistic=8.026216493241861, pvalue=2.9776823362646984e-08)"
      ]
     },
     "execution_count": 23,
     "metadata": {},
     "output_type": "execute_result"
    }
   ],
   "source": [
    "stats.ttest_ind(df2['Total'], df2['QVM-Therry St (South)'], equal_var=False)"
   ]
  },
  {
   "cell_type": "code",
   "execution_count": 24,
   "id": "52067456",
   "metadata": {},
   "outputs": [
    {
     "data": {
      "text/plain": [
       "Ttest_indResult(statistic=8.065901442707357, pvalue=2.727993159440689e-08)"
      ]
     },
     "execution_count": 24,
     "metadata": {},
     "output_type": "execute_result"
    }
   ],
   "source": [
    "stats.ttest_ind(df2['Total'], df2['Pelham St (South)'], equal_var=False)"
   ]
  },
  {
   "cell_type": "code",
   "execution_count": null,
   "id": "a2c8dd69",
   "metadata": {},
   "outputs": [],
   "source": []
  }
 ],
 "metadata": {
  "kernelspec": {
   "display_name": "Python 3",
   "language": "python",
   "name": "python3"
  },
  "language_info": {
   "codemirror_mode": {
    "name": "ipython",
    "version": 3
   },
   "file_extension": ".py",
   "mimetype": "text/x-python",
   "name": "python",
   "nbconvert_exporter": "python",
   "pygments_lexer": "ipython3",
   "version": "3.8.8"
  }
 },
 "nbformat": 4,
 "nbformat_minor": 5
}

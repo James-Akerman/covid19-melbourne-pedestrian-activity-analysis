{
 "cells": [
  {
   "cell_type": "code",
   "execution_count": null,
   "metadata": {},
   "outputs": [],
   "source": [
    "#NOTE:\n",
    "#YEAR 2019 MONTHLY\n",
    "# Pedestrian activity increases as the number of Victorian full-time workers increases."
   ]
  },
  {
   "cell_type": "code",
   "execution_count": 2,
   "metadata": {},
   "outputs": [],
   "source": [
    "#!/usr/bin/env python\n",
    "\n",
    "# make sure to install these packages before running:\n",
    "# pip install pandas\n",
    "# pip install sodapy\n",
    "\n",
    "import pandas as pd\n",
    "from sodapy import Socrata\n",
    "from keys import api_key\n",
    "from matplotlib import pyplot as plt\n"
   ]
  },
  {
   "cell_type": "code",
   "execution_count": null,
   "metadata": {},
   "outputs": [],
   "source": [
    "client = Socrata(\"data.melbourne.vic.gov.au\", api_key)\n",
    "\n",
    "\n",
    "for yr in [2019,2020,2021]:\n",
    "    results = client.get(\"b2ak-trbp\", limit=800000,year=yr)\n",
    "    # Convert to pandas DataFrame\n",
    "    globals()[f'results_df{yr}'] = pd.DataFrame.from_records(results)\n",
    "    print(f'results_df{yr}')"
   ]
  },
  {
   "cell_type": "code",
   "execution_count": 24,
   "metadata": {},
   "outputs": [],
   "source": [
    "results = client.get(\"b2ak-trbp\", limit=800000,year=2021)\n",
    "    # Convert to pandas DataFrame\n",
    "results_df2021= pd.DataFrame.from_records(results)\n"
   ]
  },
  {
   "cell_type": "code",
   "execution_count": 130,
   "metadata": {
    "scrolled": true
   },
   "outputs": [
    {
     "data": {
      "text/html": [
       "<div>\n",
       "<style scoped>\n",
       "    .dataframe tbody tr th:only-of-type {\n",
       "        vertical-align: middle;\n",
       "    }\n",
       "\n",
       "    .dataframe tbody tr th {\n",
       "        vertical-align: top;\n",
       "    }\n",
       "\n",
       "    .dataframe thead th {\n",
       "        text-align: right;\n",
       "    }\n",
       "</style>\n",
       "<table border=\"1\" class=\"dataframe\">\n",
       "  <thead>\n",
       "    <tr style=\"text-align: right;\">\n",
       "      <th></th>\n",
       "      <th>id</th>\n",
       "      <th>date_time</th>\n",
       "      <th>year</th>\n",
       "      <th>month</th>\n",
       "      <th>mdate</th>\n",
       "      <th>day</th>\n",
       "      <th>time</th>\n",
       "      <th>sensor_id</th>\n",
       "      <th>sensor_name</th>\n",
       "      <th>hourly_counts</th>\n",
       "      <th>daily_Count</th>\n",
       "    </tr>\n",
       "  </thead>\n",
       "  <tbody>\n",
       "    <tr>\n",
       "      <td>0</td>\n",
       "      <td>2966839</td>\n",
       "      <td>2020-01-01T00:00:00.000</td>\n",
       "      <td>2020</td>\n",
       "      <td>January</td>\n",
       "      <td>1</td>\n",
       "      <td>Wednesday</td>\n",
       "      <td>0</td>\n",
       "      <td>4</td>\n",
       "      <td>Town Hall (West)</td>\n",
       "      <td>3120</td>\n",
       "      <td>0</td>\n",
       "    </tr>\n",
       "    <tr>\n",
       "      <td>1</td>\n",
       "      <td>2966840</td>\n",
       "      <td>2020-01-01T00:00:00.000</td>\n",
       "      <td>2020</td>\n",
       "      <td>January</td>\n",
       "      <td>1</td>\n",
       "      <td>Wednesday</td>\n",
       "      <td>0</td>\n",
       "      <td>17</td>\n",
       "      <td>Collins Place (South)</td>\n",
       "      <td>945</td>\n",
       "      <td>0</td>\n",
       "    </tr>\n",
       "    <tr>\n",
       "      <td>2</td>\n",
       "      <td>2966841</td>\n",
       "      <td>2020-01-01T00:00:00.000</td>\n",
       "      <td>2020</td>\n",
       "      <td>January</td>\n",
       "      <td>1</td>\n",
       "      <td>Wednesday</td>\n",
       "      <td>0</td>\n",
       "      <td>18</td>\n",
       "      <td>Collins Place (North)</td>\n",
       "      <td>464</td>\n",
       "      <td>0</td>\n",
       "    </tr>\n",
       "    <tr>\n",
       "      <td>3</td>\n",
       "      <td>2966842</td>\n",
       "      <td>2020-01-01T00:00:00.000</td>\n",
       "      <td>2020</td>\n",
       "      <td>January</td>\n",
       "      <td>1</td>\n",
       "      <td>Wednesday</td>\n",
       "      <td>0</td>\n",
       "      <td>53</td>\n",
       "      <td>Collins St (North)</td>\n",
       "      <td>1590</td>\n",
       "      <td>0</td>\n",
       "    </tr>\n",
       "    <tr>\n",
       "      <td>4</td>\n",
       "      <td>2966843</td>\n",
       "      <td>2020-01-01T00:00:00.000</td>\n",
       "      <td>2020</td>\n",
       "      <td>January</td>\n",
       "      <td>1</td>\n",
       "      <td>Wednesday</td>\n",
       "      <td>0</td>\n",
       "      <td>2</td>\n",
       "      <td>Bourke Street Mall (South)</td>\n",
       "      <td>725</td>\n",
       "      <td>0</td>\n",
       "    </tr>\n",
       "  </tbody>\n",
       "</table>\n",
       "</div>"
      ],
      "text/plain": [
       "        id                date_time  year    month mdate        day time  \\\n",
       "0  2966839  2020-01-01T00:00:00.000  2020  January     1  Wednesday    0   \n",
       "1  2966840  2020-01-01T00:00:00.000  2020  January     1  Wednesday    0   \n",
       "2  2966841  2020-01-01T00:00:00.000  2020  January     1  Wednesday    0   \n",
       "3  2966842  2020-01-01T00:00:00.000  2020  January     1  Wednesday    0   \n",
       "4  2966843  2020-01-01T00:00:00.000  2020  January     1  Wednesday    0   \n",
       "\n",
       "  sensor_id                 sensor_name  hourly_counts  daily_Count  \n",
       "0         4            Town Hall (West)           3120            0  \n",
       "1        17       Collins Place (South)            945            0  \n",
       "2        18       Collins Place (North)            464            0  \n",
       "3        53          Collins St (North)           1590            0  \n",
       "4         2  Bourke Street Mall (South)            725            0  "
      ]
     },
     "execution_count": 130,
     "metadata": {},
     "output_type": "execute_result"
    }
   ],
   "source": [
    "results_df2020.head()"
   ]
  },
  {
   "cell_type": "code",
   "execution_count": 129,
   "metadata": {},
   "outputs": [
    {
     "data": {
      "text/html": [
       "<div>\n",
       "<style scoped>\n",
       "    .dataframe tbody tr th:only-of-type {\n",
       "        vertical-align: middle;\n",
       "    }\n",
       "\n",
       "    .dataframe tbody tr th {\n",
       "        vertical-align: top;\n",
       "    }\n",
       "\n",
       "    .dataframe thead th {\n",
       "        text-align: right;\n",
       "    }\n",
       "</style>\n",
       "<table border=\"1\" class=\"dataframe\">\n",
       "  <thead>\n",
       "    <tr style=\"text-align: right;\">\n",
       "      <th></th>\n",
       "      <th>id</th>\n",
       "      <th>date_time</th>\n",
       "      <th>year</th>\n",
       "      <th>month</th>\n",
       "      <th>mdate</th>\n",
       "      <th>day</th>\n",
       "      <th>time</th>\n",
       "      <th>sensor_id</th>\n",
       "      <th>sensor_name</th>\n",
       "      <th>hourly_counts</th>\n",
       "      <th>daily_Count</th>\n",
       "    </tr>\n",
       "  </thead>\n",
       "  <tbody>\n",
       "    <tr>\n",
       "      <td>0</td>\n",
       "      <td>2887628</td>\n",
       "      <td>2019-11-01T17:00:00.000</td>\n",
       "      <td>2019</td>\n",
       "      <td>November</td>\n",
       "      <td>1</td>\n",
       "      <td>Friday</td>\n",
       "      <td>17</td>\n",
       "      <td>34</td>\n",
       "      <td>Flinders St-Spark La</td>\n",
       "      <td>300</td>\n",
       "      <td>0</td>\n",
       "    </tr>\n",
       "    <tr>\n",
       "      <td>1</td>\n",
       "      <td>2887629</td>\n",
       "      <td>2019-11-01T17:00:00.000</td>\n",
       "      <td>2019</td>\n",
       "      <td>November</td>\n",
       "      <td>1</td>\n",
       "      <td>Friday</td>\n",
       "      <td>17</td>\n",
       "      <td>39</td>\n",
       "      <td>Alfred Place</td>\n",
       "      <td>604</td>\n",
       "      <td>0</td>\n",
       "    </tr>\n",
       "    <tr>\n",
       "      <td>2</td>\n",
       "      <td>2887630</td>\n",
       "      <td>2019-11-01T17:00:00.000</td>\n",
       "      <td>2019</td>\n",
       "      <td>November</td>\n",
       "      <td>1</td>\n",
       "      <td>Friday</td>\n",
       "      <td>17</td>\n",
       "      <td>37</td>\n",
       "      <td>Lygon St (East)</td>\n",
       "      <td>216</td>\n",
       "      <td>0</td>\n",
       "    </tr>\n",
       "    <tr>\n",
       "      <td>3</td>\n",
       "      <td>2887631</td>\n",
       "      <td>2019-11-01T17:00:00.000</td>\n",
       "      <td>2019</td>\n",
       "      <td>November</td>\n",
       "      <td>1</td>\n",
       "      <td>Friday</td>\n",
       "      <td>17</td>\n",
       "      <td>40</td>\n",
       "      <td>Lonsdale St-Spring St (West)</td>\n",
       "      <td>627</td>\n",
       "      <td>0</td>\n",
       "    </tr>\n",
       "    <tr>\n",
       "      <td>4</td>\n",
       "      <td>2887632</td>\n",
       "      <td>2019-11-01T17:00:00.000</td>\n",
       "      <td>2019</td>\n",
       "      <td>November</td>\n",
       "      <td>1</td>\n",
       "      <td>Friday</td>\n",
       "      <td>17</td>\n",
       "      <td>36</td>\n",
       "      <td>Queen St (West)</td>\n",
       "      <td>774</td>\n",
       "      <td>0</td>\n",
       "    </tr>\n",
       "  </tbody>\n",
       "</table>\n",
       "</div>"
      ],
      "text/plain": [
       "        id                date_time  year     month mdate     day time  \\\n",
       "0  2887628  2019-11-01T17:00:00.000  2019  November     1  Friday   17   \n",
       "1  2887629  2019-11-01T17:00:00.000  2019  November     1  Friday   17   \n",
       "2  2887630  2019-11-01T17:00:00.000  2019  November     1  Friday   17   \n",
       "3  2887631  2019-11-01T17:00:00.000  2019  November     1  Friday   17   \n",
       "4  2887632  2019-11-01T17:00:00.000  2019  November     1  Friday   17   \n",
       "\n",
       "  sensor_id                   sensor_name  hourly_counts  daily_Count  \n",
       "0        34          Flinders St-Spark La            300            0  \n",
       "1        39                  Alfred Place            604            0  \n",
       "2        37               Lygon St (East)            216            0  \n",
       "3        40  Lonsdale St-Spring St (West)            627            0  \n",
       "4        36               Queen St (West)            774            0  "
      ]
     },
     "execution_count": 129,
     "metadata": {},
     "output_type": "execute_result"
    }
   ],
   "source": [
    "results_df2019.head()"
   ]
  },
  {
   "cell_type": "code",
   "execution_count": 27,
   "metadata": {},
   "outputs": [
    {
     "data": {
      "text/plain": [
       "array(['November', 'September', 'October', 'December', 'August',\n",
       "       'January', 'February', 'March', 'May', 'April', 'June', 'July'],\n",
       "      dtype=object)"
      ]
     },
     "execution_count": 27,
     "metadata": {},
     "output_type": "execute_result"
    }
   ],
   "source": [
    "results_df2021.head()\n",
    "results_df2019[\"month\"].unique()"
   ]
  },
  {
   "cell_type": "code",
   "execution_count": 124,
   "metadata": {
    "scrolled": true
   },
   "outputs": [
    {
     "name": "stdout",
     "output_type": "stream",
     "text": [
      "['4' '17' '18' '53' '2' '1' '3' '15' '9' '10' '12' '11' '8' '7' '5' '6'\n",
      " '14' '26' '24' '23' '25' '21' '20' '19' '22' '27' '28' '31' '30' '34'\n",
      " '39' '37' '40' '36' '29' '42' '43' '44' '35' '45' '41' '46' '47' '48'\n",
      " '49' '50' '51' '52' '54' '55' '56' '57' '58' '59' '61' '62' '63' '64'\n",
      " '65' '66' '67' '68' '69' '70' '71' '73' '72' '75' '76' '77' '78']\n",
      "(377393,)\n"
     ]
    }
   ],
   "source": [
    "print(results_df2021[\"sensor_id\"].unique())\n",
    "print(results_df2021[\"sensor_id\"].shape)"
   ]
  },
  {
   "cell_type": "code",
   "execution_count": 125,
   "metadata": {
    "scrolled": true
   },
   "outputs": [
    {
     "name": "stdout",
     "output_type": "stream",
     "text": [
      "['4' '17' '18' '53' '2' '1' '3' '15' '9' '10' '12' '11' '8' '7' '5' '6'\n",
      " '14' '26' '24' '23' '25' '21' '20' '19' '22' '27' '28' '31' '30' '34'\n",
      " '39' '37' '40' '36' '29' '42' '43' '44' '35' '45' '41' '46' '47' '48'\n",
      " '49' '50' '51' '52' '54' '55' '56' '57' '58' '59' '61' '62' '63' '64'\n",
      " '65' '66' '67' '68' '69' '70' '71' '73']\n",
      "(516100,)\n"
     ]
    }
   ],
   "source": [
    "print(results_df2020[\"sensor_id\"].unique())\n",
    "print(results_df2020[\"sensor_id\"].shape)"
   ]
  },
  {
   "cell_type": "code",
   "execution_count": 126,
   "metadata": {},
   "outputs": [
    {
     "name": "stdout",
     "output_type": "stream",
     "text": [
      "['34' '39' '37' '40' '36' '29' '42' '43' '44' '35' '45' '46' '47' '48'\n",
      " '49' '50' '51' '52' '54' '55' '56' '57' '58' '59' '61' '62' '4' '17' '18'\n",
      " '53' '2' '1' '3' '15' '9' '10' '12' '11' '8' '7' '5' '6' '14' '26' '24'\n",
      " '23' '25' '21' '20' '19' '22' '27' '28' '31' '30' '41' '33' '60']\n",
      "(456829,)\n"
     ]
    }
   ],
   "source": [
    "print(results_df2019[\"sensor_id\"].unique())\n",
    "print(results_df2019[\"sensor_id\"].shape)"
   ]
  },
  {
   "cell_type": "code",
   "execution_count": 28,
   "metadata": {},
   "outputs": [],
   "source": [
    "results_df2019.to_csv('results_df2019.csv',index=False)\n",
    "results_df2020.to_csv('results_df2020.csv',index=False)\n",
    "results_df2021.to_csv('results_df2021.csv',index=False)"
   ]
  },
  {
   "cell_type": "code",
   "execution_count": 3,
   "metadata": {},
   "outputs": [],
   "source": [
    "results_df2019=pd.read_csv(\"results_df2019.csv\") \n",
    "results_df2020=pd.read_csv(\"results_df2020.csv\") \n",
    "results_df2021=pd.read_csv(\"results_df2021.csv\") "
   ]
  },
  {
   "cell_type": "code",
   "execution_count": 4,
   "metadata": {},
   "outputs": [],
   "source": [
    "#Data Pre Processing\n",
    "results_df2019=results_df2019.dropna(how=\"any\")\n",
    "results_df2019.shape\n",
    "results_df2019[\"hourly_counts\"]=pd.to_numeric(results_df2019[\"hourly_counts\"])"
   ]
  },
  {
   "cell_type": "code",
   "execution_count": 5,
   "metadata": {},
   "outputs": [],
   "source": [
    "results_df2020=results_df2020.dropna(how=\"any\")\n",
    "results_df2020.shape\n",
    "results_df2020[\"hourly_counts\"]=pd.to_numeric(results_df2020[\"hourly_counts\"])"
   ]
  },
  {
   "cell_type": "code",
   "execution_count": 6,
   "metadata": {},
   "outputs": [],
   "source": [
    "results_df2021=results_df2021.dropna(how=\"any\")\n",
    "results_df2021.shape\n",
    "results_df2021[\"hourly_counts\"]=pd.to_numeric(results_df2021[\"hourly_counts\"])"
   ]
  },
  {
   "cell_type": "code",
   "execution_count": 7,
   "metadata": {},
   "outputs": [
    {
     "data": {
      "text/html": [
       "<div>\n",
       "<style scoped>\n",
       "    .dataframe tbody tr th:only-of-type {\n",
       "        vertical-align: middle;\n",
       "    }\n",
       "\n",
       "    .dataframe tbody tr th {\n",
       "        vertical-align: top;\n",
       "    }\n",
       "\n",
       "    .dataframe thead th {\n",
       "        text-align: right;\n",
       "    }\n",
       "</style>\n",
       "<table border=\"1\" class=\"dataframe\">\n",
       "  <thead>\n",
       "    <tr style=\"text-align: right;\">\n",
       "      <th></th>\n",
       "      <th>sensor_name</th>\n",
       "      <th>month</th>\n",
       "      <th>day</th>\n",
       "      <th>hourly_counts</th>\n",
       "    </tr>\n",
       "  </thead>\n",
       "  <tbody>\n",
       "    <tr>\n",
       "      <td>0</td>\n",
       "      <td>Alfred Place</td>\n",
       "      <td>April</td>\n",
       "      <td>Friday</td>\n",
       "      <td>29607</td>\n",
       "    </tr>\n",
       "    <tr>\n",
       "      <td>1</td>\n",
       "      <td>Alfred Place</td>\n",
       "      <td>April</td>\n",
       "      <td>Monday</td>\n",
       "      <td>37167</td>\n",
       "    </tr>\n",
       "    <tr>\n",
       "      <td>2</td>\n",
       "      <td>Alfred Place</td>\n",
       "      <td>April</td>\n",
       "      <td>Saturday</td>\n",
       "      <td>11889</td>\n",
       "    </tr>\n",
       "    <tr>\n",
       "      <td>3</td>\n",
       "      <td>Alfred Place</td>\n",
       "      <td>April</td>\n",
       "      <td>Sunday</td>\n",
       "      <td>8249</td>\n",
       "    </tr>\n",
       "    <tr>\n",
       "      <td>4</td>\n",
       "      <td>Alfred Place</td>\n",
       "      <td>April</td>\n",
       "      <td>Thursday</td>\n",
       "      <td>30234</td>\n",
       "    </tr>\n",
       "    <tr>\n",
       "      <td>...</td>\n",
       "      <td>...</td>\n",
       "      <td>...</td>\n",
       "      <td>...</td>\n",
       "      <td>...</td>\n",
       "    </tr>\n",
       "    <tr>\n",
       "      <td>4496</td>\n",
       "      <td>Webb Bridge</td>\n",
       "      <td>September</td>\n",
       "      <td>Saturday</td>\n",
       "      <td>12114</td>\n",
       "    </tr>\n",
       "    <tr>\n",
       "      <td>4497</td>\n",
       "      <td>Webb Bridge</td>\n",
       "      <td>September</td>\n",
       "      <td>Sunday</td>\n",
       "      <td>13074</td>\n",
       "    </tr>\n",
       "    <tr>\n",
       "      <td>4498</td>\n",
       "      <td>Webb Bridge</td>\n",
       "      <td>September</td>\n",
       "      <td>Thursday</td>\n",
       "      <td>23660</td>\n",
       "    </tr>\n",
       "    <tr>\n",
       "      <td>4499</td>\n",
       "      <td>Webb Bridge</td>\n",
       "      <td>September</td>\n",
       "      <td>Tuesday</td>\n",
       "      <td>23140</td>\n",
       "    </tr>\n",
       "    <tr>\n",
       "      <td>4500</td>\n",
       "      <td>Webb Bridge</td>\n",
       "      <td>September</td>\n",
       "      <td>Wednesday</td>\n",
       "      <td>24095</td>\n",
       "    </tr>\n",
       "  </tbody>\n",
       "</table>\n",
       "<p>4501 rows × 4 columns</p>\n",
       "</div>"
      ],
      "text/plain": [
       "       sensor_name      month        day  hourly_counts\n",
       "0     Alfred Place      April     Friday          29607\n",
       "1     Alfred Place      April     Monday          37167\n",
       "2     Alfred Place      April   Saturday          11889\n",
       "3     Alfred Place      April     Sunday           8249\n",
       "4     Alfred Place      April   Thursday          30234\n",
       "...            ...        ...        ...            ...\n",
       "4496   Webb Bridge  September   Saturday          12114\n",
       "4497   Webb Bridge  September     Sunday          13074\n",
       "4498   Webb Bridge  September   Thursday          23660\n",
       "4499   Webb Bridge  September    Tuesday          23140\n",
       "4500   Webb Bridge  September  Wednesday          24095\n",
       "\n",
       "[4501 rows x 4 columns]"
      ]
     },
     "execution_count": 7,
     "metadata": {},
     "output_type": "execute_result"
    }
   ],
   "source": [
    "#count per day\n",
    "results_df2019[\"daily_Count\"]=0\n",
    "per_day_count=results_df2019.groupby([\"sensor_name\",\"month\",\"day\"])[\"hourly_counts\"].sum()\n",
    "\n",
    "results_df2019_perdayCount=per_day_count.reset_index()\n",
    "results_df2019_perdayCount"
   ]
  },
  {
   "cell_type": "code",
   "execution_count": 8,
   "metadata": {},
   "outputs": [
    {
     "data": {
      "text/html": [
       "<div>\n",
       "<style scoped>\n",
       "    .dataframe tbody tr th:only-of-type {\n",
       "        vertical-align: middle;\n",
       "    }\n",
       "\n",
       "    .dataframe tbody tr th {\n",
       "        vertical-align: top;\n",
       "    }\n",
       "\n",
       "    .dataframe thead th {\n",
       "        text-align: right;\n",
       "    }\n",
       "</style>\n",
       "<table border=\"1\" class=\"dataframe\">\n",
       "  <thead>\n",
       "    <tr style=\"text-align: right;\">\n",
       "      <th></th>\n",
       "      <th>sensor_name</th>\n",
       "      <th>month</th>\n",
       "      <th>day</th>\n",
       "      <th>hourly_counts</th>\n",
       "    </tr>\n",
       "  </thead>\n",
       "  <tbody>\n",
       "    <tr>\n",
       "      <td>0</td>\n",
       "      <td>231 Bourke St</td>\n",
       "      <td>April</td>\n",
       "      <td>Friday</td>\n",
       "      <td>8871</td>\n",
       "    </tr>\n",
       "    <tr>\n",
       "      <td>1</td>\n",
       "      <td>231 Bourke St</td>\n",
       "      <td>April</td>\n",
       "      <td>Monday</td>\n",
       "      <td>8566</td>\n",
       "    </tr>\n",
       "    <tr>\n",
       "      <td>2</td>\n",
       "      <td>231 Bourke St</td>\n",
       "      <td>April</td>\n",
       "      <td>Saturday</td>\n",
       "      <td>5874</td>\n",
       "    </tr>\n",
       "    <tr>\n",
       "      <td>3</td>\n",
       "      <td>231 Bourke St</td>\n",
       "      <td>April</td>\n",
       "      <td>Sunday</td>\n",
       "      <td>5047</td>\n",
       "    </tr>\n",
       "    <tr>\n",
       "      <td>4</td>\n",
       "      <td>231 Bourke St</td>\n",
       "      <td>April</td>\n",
       "      <td>Thursday</td>\n",
       "      <td>11829</td>\n",
       "    </tr>\n",
       "    <tr>\n",
       "      <td>...</td>\n",
       "      <td>...</td>\n",
       "      <td>...</td>\n",
       "      <td>...</td>\n",
       "      <td>...</td>\n",
       "    </tr>\n",
       "    <tr>\n",
       "      <td>5060</td>\n",
       "      <td>Westwood Place</td>\n",
       "      <td>October</td>\n",
       "      <td>Saturday</td>\n",
       "      <td>648</td>\n",
       "    </tr>\n",
       "    <tr>\n",
       "      <td>5061</td>\n",
       "      <td>Westwood Place</td>\n",
       "      <td>October</td>\n",
       "      <td>Sunday</td>\n",
       "      <td>253</td>\n",
       "    </tr>\n",
       "    <tr>\n",
       "      <td>5062</td>\n",
       "      <td>Westwood Place</td>\n",
       "      <td>October</td>\n",
       "      <td>Thursday</td>\n",
       "      <td>849</td>\n",
       "    </tr>\n",
       "    <tr>\n",
       "      <td>5063</td>\n",
       "      <td>Westwood Place</td>\n",
       "      <td>October</td>\n",
       "      <td>Tuesday</td>\n",
       "      <td>900</td>\n",
       "    </tr>\n",
       "    <tr>\n",
       "      <td>5064</td>\n",
       "      <td>Westwood Place</td>\n",
       "      <td>October</td>\n",
       "      <td>Wednesday</td>\n",
       "      <td>1282</td>\n",
       "    </tr>\n",
       "  </tbody>\n",
       "</table>\n",
       "<p>5065 rows × 4 columns</p>\n",
       "</div>"
      ],
      "text/plain": [
       "         sensor_name    month        day  hourly_counts\n",
       "0      231 Bourke St    April     Friday           8871\n",
       "1      231 Bourke St    April     Monday           8566\n",
       "2      231 Bourke St    April   Saturday           5874\n",
       "3      231 Bourke St    April     Sunday           5047\n",
       "4      231 Bourke St    April   Thursday          11829\n",
       "...              ...      ...        ...            ...\n",
       "5060  Westwood Place  October   Saturday            648\n",
       "5061  Westwood Place  October     Sunday            253\n",
       "5062  Westwood Place  October   Thursday            849\n",
       "5063  Westwood Place  October    Tuesday            900\n",
       "5064  Westwood Place  October  Wednesday           1282\n",
       "\n",
       "[5065 rows x 4 columns]"
      ]
     },
     "execution_count": 8,
     "metadata": {},
     "output_type": "execute_result"
    }
   ],
   "source": [
    "#count per day\n",
    "results_df2020[\"daily_Count\"]=0\n",
    "per_day_count2020=results_df2020.groupby([\"sensor_name\",\"month\",\"day\"])[\"hourly_counts\"].sum()\n",
    "\n",
    "results_df2020_perdayCount=per_day_count2020.reset_index()\n",
    "results_df2020_perdayCount"
   ]
  },
  {
   "cell_type": "code",
   "execution_count": 9,
   "metadata": {},
   "outputs": [
    {
     "data": {
      "text/html": [
       "<div>\n",
       "<style scoped>\n",
       "    .dataframe tbody tr th:only-of-type {\n",
       "        vertical-align: middle;\n",
       "    }\n",
       "\n",
       "    .dataframe tbody tr th {\n",
       "        vertical-align: top;\n",
       "    }\n",
       "\n",
       "    .dataframe thead th {\n",
       "        text-align: right;\n",
       "    }\n",
       "</style>\n",
       "<table border=\"1\" class=\"dataframe\">\n",
       "  <thead>\n",
       "    <tr style=\"text-align: right;\">\n",
       "      <th></th>\n",
       "      <th>sensor_name</th>\n",
       "      <th>month</th>\n",
       "      <th>day</th>\n",
       "      <th>hourly_counts</th>\n",
       "    </tr>\n",
       "  </thead>\n",
       "  <tbody>\n",
       "    <tr>\n",
       "      <td>0</td>\n",
       "      <td>231 Bourke St</td>\n",
       "      <td>April</td>\n",
       "      <td>Friday</td>\n",
       "      <td>52133</td>\n",
       "    </tr>\n",
       "    <tr>\n",
       "      <td>1</td>\n",
       "      <td>231 Bourke St</td>\n",
       "      <td>April</td>\n",
       "      <td>Monday</td>\n",
       "      <td>27838</td>\n",
       "    </tr>\n",
       "    <tr>\n",
       "      <td>2</td>\n",
       "      <td>231 Bourke St</td>\n",
       "      <td>April</td>\n",
       "      <td>Saturday</td>\n",
       "      <td>47261</td>\n",
       "    </tr>\n",
       "    <tr>\n",
       "      <td>3</td>\n",
       "      <td>231 Bourke St</td>\n",
       "      <td>April</td>\n",
       "      <td>Sunday</td>\n",
       "      <td>32831</td>\n",
       "    </tr>\n",
       "    <tr>\n",
       "      <td>4</td>\n",
       "      <td>231 Bourke St</td>\n",
       "      <td>April</td>\n",
       "      <td>Thursday</td>\n",
       "      <td>45070</td>\n",
       "    </tr>\n",
       "    <tr>\n",
       "      <td>...</td>\n",
       "      <td>...</td>\n",
       "      <td>...</td>\n",
       "      <td>...</td>\n",
       "      <td>...</td>\n",
       "    </tr>\n",
       "    <tr>\n",
       "      <td>3686</td>\n",
       "      <td>Westwood Place</td>\n",
       "      <td>May</td>\n",
       "      <td>Saturday</td>\n",
       "      <td>4026</td>\n",
       "    </tr>\n",
       "    <tr>\n",
       "      <td>3687</td>\n",
       "      <td>Westwood Place</td>\n",
       "      <td>May</td>\n",
       "      <td>Sunday</td>\n",
       "      <td>3566</td>\n",
       "    </tr>\n",
       "    <tr>\n",
       "      <td>3688</td>\n",
       "      <td>Westwood Place</td>\n",
       "      <td>May</td>\n",
       "      <td>Thursday</td>\n",
       "      <td>3816</td>\n",
       "    </tr>\n",
       "    <tr>\n",
       "      <td>3689</td>\n",
       "      <td>Westwood Place</td>\n",
       "      <td>May</td>\n",
       "      <td>Tuesday</td>\n",
       "      <td>3986</td>\n",
       "    </tr>\n",
       "    <tr>\n",
       "      <td>3690</td>\n",
       "      <td>Westwood Place</td>\n",
       "      <td>May</td>\n",
       "      <td>Wednesday</td>\n",
       "      <td>3469</td>\n",
       "    </tr>\n",
       "  </tbody>\n",
       "</table>\n",
       "<p>3691 rows × 4 columns</p>\n",
       "</div>"
      ],
      "text/plain": [
       "         sensor_name  month        day  hourly_counts\n",
       "0      231 Bourke St  April     Friday          52133\n",
       "1      231 Bourke St  April     Monday          27838\n",
       "2      231 Bourke St  April   Saturday          47261\n",
       "3      231 Bourke St  April     Sunday          32831\n",
       "4      231 Bourke St  April   Thursday          45070\n",
       "...              ...    ...        ...            ...\n",
       "3686  Westwood Place    May   Saturday           4026\n",
       "3687  Westwood Place    May     Sunday           3566\n",
       "3688  Westwood Place    May   Thursday           3816\n",
       "3689  Westwood Place    May    Tuesday           3986\n",
       "3690  Westwood Place    May  Wednesday           3469\n",
       "\n",
       "[3691 rows x 4 columns]"
      ]
     },
     "execution_count": 9,
     "metadata": {},
     "output_type": "execute_result"
    }
   ],
   "source": [
    "#count per day\n",
    "results_df2021[\"daily_Count\"]=0\n",
    "per_day_count=results_df2021.groupby([\"sensor_name\",\"month\",\"day\"])[\"hourly_counts\"].sum()\n",
    "\n",
    "results_df2021_perdayCount=per_day_count.reset_index()\n",
    "results_df2021_perdayCount"
   ]
  },
  {
   "cell_type": "code",
   "execution_count": 10,
   "metadata": {},
   "outputs": [
    {
     "data": {
      "text/plain": [
       "(3691, 4)"
      ]
     },
     "execution_count": 10,
     "metadata": {},
     "output_type": "execute_result"
    }
   ],
   "source": [
    "results_df2021_perdayCount.shape\n",
    "results_df2021_perdayCount.shape"
   ]
  },
  {
   "cell_type": "code",
   "execution_count": 11,
   "metadata": {},
   "outputs": [
    {
     "data": {
      "text/plain": [
       "array(['April', 'August', 'December', 'February', 'January', 'July',\n",
       "       'June', 'March', 'May', 'November', 'October', 'September'],\n",
       "      dtype=object)"
      ]
     },
     "execution_count": 11,
     "metadata": {},
     "output_type": "execute_result"
    }
   ],
   "source": [
    "#Merge all the df\n",
    "merged_2019_2020_df=pd.merge(results_df2019_perdayCount,results_df2020_perdayCount,on=[\"sensor_name\",\"month\",\"day\"],suffixes=(\"_2019\",\"_2020\"),how=\"outer\")\n",
    "\n",
    "merged_2019_2020_df[\"month\"].unique()\n",
    "merged_2019_2020_df=merged_2019_2020_df.rename(columns={'hourly_counts_2019':'day_based_counts2019',\n",
    "                                                                 'hourly_counts_2020':'day_based_counts2020'})\n",
    "merged_2019_2020_df[\"month\"].unique()"
   ]
  },
  {
   "cell_type": "code",
   "execution_count": 12,
   "metadata": {
    "scrolled": true
   },
   "outputs": [],
   "source": [
    "#Merge all the df\n",
    "#merged_2019_2020_df=pd.merge(results_df2019_perdayCount,results_df2020_perdayCount,on=[\"sensor_name\",\"month\",\"day\"],suffixes=(\"_2019\",\"_2020\"))"
   ]
  },
  {
   "cell_type": "code",
   "execution_count": 13,
   "metadata": {
    "scrolled": true
   },
   "outputs": [
    {
     "data": {
      "text/plain": [
       "array(['April', 'August', 'February', 'January', 'July', 'June', 'March',\n",
       "       'May'], dtype=object)"
      ]
     },
     "execution_count": 13,
     "metadata": {},
     "output_type": "execute_result"
    }
   ],
   "source": [
    "#Merge all the df\n",
    "merged_2019_2020_2021_df=pd.merge(merged_2019_2020_df,results_df2021_perdayCount,on=[\"sensor_name\",\"month\",\"day\"],how=\"outer\")\n",
    "merged_2019_2020_2021_df.dropna(how=\"any\",inplace=True)\n",
    "merged_2019_2020_2021_df=merged_2019_2020_2021_df.rename(columns={'hourly_counts':'day_based_counts2021'})\n",
    "merged_2019_2020_2021_df[\"month\"].unique()"
   ]
  },
  {
   "cell_type": "code",
   "execution_count": 14,
   "metadata": {
    "scrolled": true
   },
   "outputs": [],
   "source": [
    "#remove datapoints whose sensors are not same - for benchmarking\n",
    "#df=pd.merge(results_df2019,results_df2020,on=[\"sensor_id\",\"sensor_name\",\"mdate\",\"month\"],suffixes=(\"_2019\",\"_2020\"))"
   ]
  },
  {
   "cell_type": "code",
   "execution_count": 15,
   "metadata": {},
   "outputs": [],
   "source": [
    "#================================PLOTS================================"
   ]
  },
  {
   "cell_type": "code",
   "execution_count": 16,
   "metadata": {
    "scrolled": true
   },
   "outputs": [
    {
     "name": "stdout",
     "output_type": "stream",
     "text": [
      "['Alfred Place', 'Birrarung Marr', 'Bourke St - Spencer St (North)', 'Bourke St Bridge', 'Bourke St-Russell St (West)', 'Bourke Street Mall (North)', 'Bourke Street Mall (South)', 'Chinatown-Lt Bourke St (South)', 'Chinatown-Swanston St (North)', 'Collins Place (North)', 'Collins Place (South)', 'Collins St (North)', 'Elizabeth St-Lonsdale St (South)', 'Faraday St-Lygon St (West)', 'Flinders St-Elizabeth St (East)', 'Flinders St-Spark La', 'Flinders Street Station Underpass', 'Grattan St-Swanston St (West)', 'Lincoln-Swanston(West)', 'Little Collins St-Swanston St (East)', 'Lonsdale St (South)', 'Lonsdale St - Elizabeth St (North)', 'Lonsdale St-Spring St (West)', 'Lygon St (East)', 'Lygon St (West)', 'Melbourne Central', 'Melbourne Central-Elizabeth St (East)', 'Melbourne Convention Exhibition Centre', 'Monash Rd-Swanston St (West)', 'New Quay', 'Pelham St (S)', 'Princes Bridge', 'QV Market-Elizabeth St (West)', 'QV Market-Peel St', 'QVM-Franklin St (North)', 'QVM-Queen St (East)', 'QVM-Therry St (South)', 'Queen St (West)', 'Sandridge Bridge', 'Southbank', 'Southern Cross Station', 'Spencer St-Collins St (North)', 'Spencer St-Collins St (South)', 'St Kilda Rd-Alexandra Gardens', 'State Library', 'Swanston St - RMIT Building 14', 'Swanston St - RMIT Building 80', 'The Arts Centre', 'Tin Alley-Swanston St (West)', 'Town Hall (West)', 'Victoria Point', 'Waterfront City', 'Webb Bridge']\n"
     ]
    },
    {
     "data": {
      "text/plain": [
       "53"
      ]
     },
     "execution_count": 16,
     "metadata": {},
     "output_type": "execute_result"
    }
   ],
   "source": [
    "#common sensors across the db\n",
    "a=merged_2019_2020_2021_df[\"sensor_name\"].unique().tolist()\n",
    "print(a)\n",
    "len(a)\n"
   ]
  },
  {
   "cell_type": "code",
   "execution_count": 17,
   "metadata": {},
   "outputs": [
    {
     "data": {
      "text/plain": [
       "array(['April', 'August', 'December', 'February', 'January', 'July',\n",
       "       'June', 'March', 'May', 'November', 'October', 'September'],\n",
       "      dtype=object)"
      ]
     },
     "execution_count": 17,
     "metadata": {},
     "output_type": "execute_result"
    }
   ],
   "source": [
    "merged_2019_2020_df[\"month\"].unique()"
   ]
  },
  {
   "cell_type": "code",
   "execution_count": 18,
   "metadata": {},
   "outputs": [
    {
     "data": {
      "text/plain": [
       "month\n",
       "April        3965628.0\n",
       "August       3157701.0\n",
       "December    14153423.0\n",
       "February    21853368.0\n",
       "January     23189121.0\n",
       "Name: day_based_counts2020, dtype: float64"
      ]
     },
     "execution_count": 18,
     "metadata": {},
     "output_type": "execute_result"
    }
   ],
   "source": [
    "#monday_df.groupby([\"sensor_name\",\"month\"]).day_based_counts2021.value_counts().unstack(0).plot.bar()\n",
    "#sortedA=merged_2019_2020_2021_df.sort_values('month')\n",
    "#print(sortedA)\n",
    "month_count2021_df=merged_2019_2020_2021_df.groupby([\"month\"])[\"day_based_counts2021\"].sum()\n",
    "month_count2021_df.head()\n",
    "month_count2019_df=merged_2019_2020_df.groupby([\"month\"])[\"day_based_counts2019\"].sum()\n",
    "month_count2019_df.head()\n",
    "month_count2020_df=merged_2019_2020_df.groupby([\"month\"])[\"day_based_counts2020\"].sum()\n",
    "month_count2020_df.head()"
   ]
  },
  {
   "cell_type": "code",
   "execution_count": 28,
   "metadata": {},
   "outputs": [],
   "source": [
    "month_count2019_20_df=merged_2019_2020_df.groupby([\"month\"])[\"day_based_counts2019\",\"day_based_counts2020\"].sum()\n",
    "month_count2019_20_df.head()\n",
    "df=month_count2019_20_df"
   ]
  },
  {
   "cell_type": "code",
   "execution_count": 29,
   "metadata": {},
   "outputs": [],
   "source": [
    "\n",
    "df=df.reset_index()\n"
   ]
  },
  {
   "cell_type": "code",
   "execution_count": 30,
   "metadata": {},
   "outputs": [
    {
     "data": {
      "text/html": [
       "<div>\n",
       "<style scoped>\n",
       "    .dataframe tbody tr th:only-of-type {\n",
       "        vertical-align: middle;\n",
       "    }\n",
       "\n",
       "    .dataframe tbody tr th {\n",
       "        vertical-align: top;\n",
       "    }\n",
       "\n",
       "    .dataframe thead th {\n",
       "        text-align: right;\n",
       "    }\n",
       "</style>\n",
       "<table border=\"1\" class=\"dataframe\">\n",
       "  <thead>\n",
       "    <tr style=\"text-align: right;\">\n",
       "      <th></th>\n",
       "      <th>month</th>\n",
       "      <th>day_based_counts2019</th>\n",
       "      <th>day_based_counts2020</th>\n",
       "    </tr>\n",
       "  </thead>\n",
       "  <tbody>\n",
       "    <tr>\n",
       "      <td>0</td>\n",
       "      <td>April</td>\n",
       "      <td>22818120.0</td>\n",
       "      <td>3965628.0</td>\n",
       "    </tr>\n",
       "    <tr>\n",
       "      <td>1</td>\n",
       "      <td>August</td>\n",
       "      <td>23896524.0</td>\n",
       "      <td>3157701.0</td>\n",
       "    </tr>\n",
       "    <tr>\n",
       "      <td>2</td>\n",
       "      <td>December</td>\n",
       "      <td>24931172.0</td>\n",
       "      <td>14153423.0</td>\n",
       "    </tr>\n",
       "    <tr>\n",
       "      <td>3</td>\n",
       "      <td>February</td>\n",
       "      <td>18816254.0</td>\n",
       "      <td>21853368.0</td>\n",
       "    </tr>\n",
       "    <tr>\n",
       "      <td>4</td>\n",
       "      <td>January</td>\n",
       "      <td>18904686.0</td>\n",
       "      <td>23189121.0</td>\n",
       "    </tr>\n",
       "    <tr>\n",
       "      <td>5</td>\n",
       "      <td>July</td>\n",
       "      <td>22744685.0</td>\n",
       "      <td>5394964.0</td>\n",
       "    </tr>\n",
       "    <tr>\n",
       "      <td>6</td>\n",
       "      <td>June</td>\n",
       "      <td>20194222.0</td>\n",
       "      <td>8573779.0</td>\n",
       "    </tr>\n",
       "    <tr>\n",
       "      <td>7</td>\n",
       "      <td>March</td>\n",
       "      <td>23181242.0</td>\n",
       "      <td>16576373.0</td>\n",
       "    </tr>\n",
       "    <tr>\n",
       "      <td>8</td>\n",
       "      <td>May</td>\n",
       "      <td>21590920.0</td>\n",
       "      <td>6257626.0</td>\n",
       "    </tr>\n",
       "    <tr>\n",
       "      <td>9</td>\n",
       "      <td>November</td>\n",
       "      <td>23487511.0</td>\n",
       "      <td>9755676.0</td>\n",
       "    </tr>\n",
       "    <tr>\n",
       "      <td>10</td>\n",
       "      <td>October</td>\n",
       "      <td>24738547.0</td>\n",
       "      <td>5274979.0</td>\n",
       "    </tr>\n",
       "    <tr>\n",
       "      <td>11</td>\n",
       "      <td>September</td>\n",
       "      <td>21107792.0</td>\n",
       "      <td>3789356.0</td>\n",
       "    </tr>\n",
       "  </tbody>\n",
       "</table>\n",
       "</div>"
      ],
      "text/plain": [
       "        month  day_based_counts2019  day_based_counts2020\n",
       "0       April            22818120.0             3965628.0\n",
       "1      August            23896524.0             3157701.0\n",
       "2    December            24931172.0            14153423.0\n",
       "3    February            18816254.0            21853368.0\n",
       "4     January            18904686.0            23189121.0\n",
       "5        July            22744685.0             5394964.0\n",
       "6        June            20194222.0             8573779.0\n",
       "7       March            23181242.0            16576373.0\n",
       "8         May            21590920.0             6257626.0\n",
       "9    November            23487511.0             9755676.0\n",
       "10    October            24738547.0             5274979.0\n",
       "11  September            21107792.0             3789356.0"
      ]
     },
     "execution_count": 30,
     "metadata": {},
     "output_type": "execute_result"
    }
   ],
   "source": [
    "df"
   ]
  },
  {
   "cell_type": "code",
   "execution_count": 31,
   "metadata": {},
   "outputs": [
    {
     "data": {
      "text/html": [
       "<div>\n",
       "<style scoped>\n",
       "    .dataframe tbody tr th:only-of-type {\n",
       "        vertical-align: middle;\n",
       "    }\n",
       "\n",
       "    .dataframe tbody tr th {\n",
       "        vertical-align: top;\n",
       "    }\n",
       "\n",
       "    .dataframe thead th {\n",
       "        text-align: right;\n",
       "    }\n",
       "</style>\n",
       "<table border=\"1\" class=\"dataframe\">\n",
       "  <thead>\n",
       "    <tr style=\"text-align: right;\">\n",
       "      <th></th>\n",
       "      <th>month</th>\n",
       "      <th>day_based_counts2019</th>\n",
       "      <th>day_based_counts2020</th>\n",
       "    </tr>\n",
       "    <tr>\n",
       "      <th>month</th>\n",
       "      <th></th>\n",
       "      <th></th>\n",
       "      <th></th>\n",
       "    </tr>\n",
       "  </thead>\n",
       "  <tbody>\n",
       "    <tr>\n",
       "      <td>April</td>\n",
       "      <td>April</td>\n",
       "      <td>22818120.0</td>\n",
       "      <td>3965628.0</td>\n",
       "    </tr>\n",
       "    <tr>\n",
       "      <td>August</td>\n",
       "      <td>August</td>\n",
       "      <td>23896524.0</td>\n",
       "      <td>3157701.0</td>\n",
       "    </tr>\n",
       "    <tr>\n",
       "      <td>December</td>\n",
       "      <td>December</td>\n",
       "      <td>24931172.0</td>\n",
       "      <td>14153423.0</td>\n",
       "    </tr>\n",
       "    <tr>\n",
       "      <td>February</td>\n",
       "      <td>February</td>\n",
       "      <td>18816254.0</td>\n",
       "      <td>21853368.0</td>\n",
       "    </tr>\n",
       "    <tr>\n",
       "      <td>January</td>\n",
       "      <td>January</td>\n",
       "      <td>18904686.0</td>\n",
       "      <td>23189121.0</td>\n",
       "    </tr>\n",
       "    <tr>\n",
       "      <td>July</td>\n",
       "      <td>July</td>\n",
       "      <td>22744685.0</td>\n",
       "      <td>5394964.0</td>\n",
       "    </tr>\n",
       "    <tr>\n",
       "      <td>June</td>\n",
       "      <td>June</td>\n",
       "      <td>20194222.0</td>\n",
       "      <td>8573779.0</td>\n",
       "    </tr>\n",
       "    <tr>\n",
       "      <td>March</td>\n",
       "      <td>March</td>\n",
       "      <td>23181242.0</td>\n",
       "      <td>16576373.0</td>\n",
       "    </tr>\n",
       "    <tr>\n",
       "      <td>May</td>\n",
       "      <td>May</td>\n",
       "      <td>21590920.0</td>\n",
       "      <td>6257626.0</td>\n",
       "    </tr>\n",
       "    <tr>\n",
       "      <td>November</td>\n",
       "      <td>November</td>\n",
       "      <td>23487511.0</td>\n",
       "      <td>9755676.0</td>\n",
       "    </tr>\n",
       "    <tr>\n",
       "      <td>October</td>\n",
       "      <td>October</td>\n",
       "      <td>24738547.0</td>\n",
       "      <td>5274979.0</td>\n",
       "    </tr>\n",
       "    <tr>\n",
       "      <td>September</td>\n",
       "      <td>September</td>\n",
       "      <td>21107792.0</td>\n",
       "      <td>3789356.0</td>\n",
       "    </tr>\n",
       "  </tbody>\n",
       "</table>\n",
       "</div>"
      ],
      "text/plain": [
       "               month  day_based_counts2019  day_based_counts2020\n",
       "month                                                           \n",
       "April          April            22818120.0             3965628.0\n",
       "August        August            23896524.0             3157701.0\n",
       "December    December            24931172.0            14153423.0\n",
       "February    February            18816254.0            21853368.0\n",
       "January      January            18904686.0            23189121.0\n",
       "July            July            22744685.0             5394964.0\n",
       "June            June            20194222.0             8573779.0\n",
       "March          March            23181242.0            16576373.0\n",
       "May              May            21590920.0             6257626.0\n",
       "November    November            23487511.0             9755676.0\n",
       "October      October            24738547.0             5274979.0\n",
       "September  September            21107792.0             3789356.0"
      ]
     },
     "execution_count": 31,
     "metadata": {},
     "output_type": "execute_result"
    }
   ],
   "source": [
    "sorted_months=[\"January\",\"February\",\"March\",\"April\",\"May\",\"June\",\"July\",\"August\", \"September\", \"October\",\"November\", \"December\"]\n",
    "df.index=pd.CategoricalIndex(df[\"month\"],categories=sorted_months,ordered=True)\n",
    "df"
   ]
  },
  {
   "cell_type": "code",
   "execution_count": 34,
   "metadata": {
    "scrolled": true
   },
   "outputs": [],
   "source": [
    "df=df.sort_index().reset_index(drop=True)"
   ]
  },
  {
   "cell_type": "code",
   "execution_count": 35,
   "metadata": {},
   "outputs": [
    {
     "data": {
      "text/html": [
       "<div>\n",
       "<style scoped>\n",
       "    .dataframe tbody tr th:only-of-type {\n",
       "        vertical-align: middle;\n",
       "    }\n",
       "\n",
       "    .dataframe tbody tr th {\n",
       "        vertical-align: top;\n",
       "    }\n",
       "\n",
       "    .dataframe thead th {\n",
       "        text-align: right;\n",
       "    }\n",
       "</style>\n",
       "<table border=\"1\" class=\"dataframe\">\n",
       "  <thead>\n",
       "    <tr style=\"text-align: right;\">\n",
       "      <th></th>\n",
       "      <th>month</th>\n",
       "      <th>day_based_counts2019</th>\n",
       "      <th>day_based_counts2020</th>\n",
       "    </tr>\n",
       "  </thead>\n",
       "  <tbody>\n",
       "    <tr>\n",
       "      <td>0</td>\n",
       "      <td>January</td>\n",
       "      <td>18904686.0</td>\n",
       "      <td>23189121.0</td>\n",
       "    </tr>\n",
       "    <tr>\n",
       "      <td>1</td>\n",
       "      <td>February</td>\n",
       "      <td>18816254.0</td>\n",
       "      <td>21853368.0</td>\n",
       "    </tr>\n",
       "    <tr>\n",
       "      <td>2</td>\n",
       "      <td>March</td>\n",
       "      <td>23181242.0</td>\n",
       "      <td>16576373.0</td>\n",
       "    </tr>\n",
       "    <tr>\n",
       "      <td>3</td>\n",
       "      <td>April</td>\n",
       "      <td>22818120.0</td>\n",
       "      <td>3965628.0</td>\n",
       "    </tr>\n",
       "    <tr>\n",
       "      <td>4</td>\n",
       "      <td>May</td>\n",
       "      <td>21590920.0</td>\n",
       "      <td>6257626.0</td>\n",
       "    </tr>\n",
       "    <tr>\n",
       "      <td>5</td>\n",
       "      <td>June</td>\n",
       "      <td>20194222.0</td>\n",
       "      <td>8573779.0</td>\n",
       "    </tr>\n",
       "    <tr>\n",
       "      <td>6</td>\n",
       "      <td>July</td>\n",
       "      <td>22744685.0</td>\n",
       "      <td>5394964.0</td>\n",
       "    </tr>\n",
       "    <tr>\n",
       "      <td>7</td>\n",
       "      <td>August</td>\n",
       "      <td>23896524.0</td>\n",
       "      <td>3157701.0</td>\n",
       "    </tr>\n",
       "    <tr>\n",
       "      <td>8</td>\n",
       "      <td>September</td>\n",
       "      <td>21107792.0</td>\n",
       "      <td>3789356.0</td>\n",
       "    </tr>\n",
       "    <tr>\n",
       "      <td>9</td>\n",
       "      <td>October</td>\n",
       "      <td>24738547.0</td>\n",
       "      <td>5274979.0</td>\n",
       "    </tr>\n",
       "    <tr>\n",
       "      <td>10</td>\n",
       "      <td>November</td>\n",
       "      <td>23487511.0</td>\n",
       "      <td>9755676.0</td>\n",
       "    </tr>\n",
       "    <tr>\n",
       "      <td>11</td>\n",
       "      <td>December</td>\n",
       "      <td>24931172.0</td>\n",
       "      <td>14153423.0</td>\n",
       "    </tr>\n",
       "  </tbody>\n",
       "</table>\n",
       "</div>"
      ],
      "text/plain": [
       "        month  day_based_counts2019  day_based_counts2020\n",
       "0     January            18904686.0            23189121.0\n",
       "1    February            18816254.0            21853368.0\n",
       "2       March            23181242.0            16576373.0\n",
       "3       April            22818120.0             3965628.0\n",
       "4         May            21590920.0             6257626.0\n",
       "5        June            20194222.0             8573779.0\n",
       "6        July            22744685.0             5394964.0\n",
       "7      August            23896524.0             3157701.0\n",
       "8   September            21107792.0             3789356.0\n",
       "9     October            24738547.0             5274979.0\n",
       "10   November            23487511.0             9755676.0\n",
       "11   December            24931172.0            14153423.0"
      ]
     },
     "execution_count": 35,
     "metadata": {},
     "output_type": "execute_result"
    }
   ],
   "source": [
    "df"
   ]
  },
  {
   "cell_type": "code",
   "execution_count": 37,
   "metadata": {
    "scrolled": true
   },
   "outputs": [
    {
     "data": {
      "image/png": "[encoded data removed]",
      "text/plain": [
       "<Figure size 1440x1440 with 1 Axes>"
      ]
     },
     "metadata": {
      "needs_background": "light"
     },
     "output_type": "display_data"
    }
   ],
   "source": [
    "b1=df.plot(x=\"month\",kind=\"bar\",figsize=[20,20])"
   ]
  },
  {
   "cell_type": "code",
   "execution_count": 118,
   "metadata": {},
   "outputs": [],
   "source": [
    "fig = b1.get_figure()\n",
    "fig.savefig('2019_2020Bar.png')"
   ]
  },
  {
   "cell_type": "code",
   "execution_count": null,
   "metadata": {},
   "outputs": [],
   "source": [
    "#Trend change across each sensor\n"
   ]
  },
  {
   "cell_type": "code",
   "execution_count": 57,
   "metadata": {},
   "outputs": [
    {
     "data": {
      "text/plain": [
       "Town Hall (West)                         8760\n",
       "Southern Cross Station                   8760\n",
       "Monash Rd-Swanston St (West)             8760\n",
       "Spencer St-Collins St (South)            8760\n",
       "Lygon St (East)                          8760\n",
       "                                         ... \n",
       "Elizabeth St-La Trobe St (East)          2208\n",
       "La Trobe St (North)                      2208\n",
       "Flinders La-Swanston St (West)           1848\n",
       "Flinders La - Swanston St (West) Temp    1379\n",
       "Flinders la - Swanston St (West) Temp     912\n",
       "Name: sensor_name, Length: 61, dtype: int64"
      ]
     },
     "execution_count": 57,
     "metadata": {},
     "output_type": "execute_result"
    }
   ],
   "source": [
    "#Total number of sensors\n",
    "results_df2019[\"sensor_name\"].value_counts()"
   ]
  },
  {
   "cell_type": "code",
   "execution_count": 45,
   "metadata": {},
   "outputs": [
    {
     "ename": "TypeError",
     "evalue": "no numeric data to plot",
     "output_type": "error",
     "traceback": [
      "\u001b[1;31m---------------------------------------------------------------------------\u001b[0m",
      "\u001b[1;31mTypeError\u001b[0m                                 Traceback (most recent call last)",
      "\u001b[1;32m<ipython-input-45-fbd56e0512db>\u001b[0m in \u001b[0;36m<module>\u001b[1;34m\u001b[0m\n\u001b[0;32m      1\u001b[0m \u001b[0mper_day\u001b[0m\u001b[1;33m\u001b[0m\u001b[1;33m\u001b[0m\u001b[0m\n\u001b[1;32m----> 2\u001b[1;33m \u001b[0mper_day\u001b[0m\u001b[1;33m.\u001b[0m\u001b[0mplot\u001b[0m\u001b[1;33m(\u001b[0m\u001b[0mkind\u001b[0m\u001b[1;33m=\u001b[0m\u001b[1;34m\"line\"\u001b[0m\u001b[1;33m)\u001b[0m\u001b[1;33m\u001b[0m\u001b[1;33m\u001b[0m\u001b[0m\n\u001b[0m",
      "\u001b[1;32m~\\Anaconda3\\lib\\site-packages\\pandas\\plotting\\_core.py\u001b[0m in \u001b[0;36m__call__\u001b[1;34m(self, *args, **kwargs)\u001b[0m\n\u001b[0;32m    792\u001b[0m                     \u001b[0mdata\u001b[0m\u001b[1;33m.\u001b[0m\u001b[0mcolumns\u001b[0m \u001b[1;33m=\u001b[0m \u001b[0mlabel_name\u001b[0m\u001b[1;33m\u001b[0m\u001b[1;33m\u001b[0m\u001b[0m\n\u001b[0;32m    793\u001b[0m \u001b[1;33m\u001b[0m\u001b[0m\n\u001b[1;32m--> 794\u001b[1;33m         \u001b[1;32mreturn\u001b[0m \u001b[0mplot_backend\u001b[0m\u001b[1;33m.\u001b[0m\u001b[0mplot\u001b[0m\u001b[1;33m(\u001b[0m\u001b[0mdata\u001b[0m\u001b[1;33m,\u001b[0m \u001b[0mkind\u001b[0m\u001b[1;33m=\u001b[0m\u001b[0mkind\u001b[0m\u001b[1;33m,\u001b[0m \u001b[1;33m**\u001b[0m\u001b[0mkwargs\u001b[0m\u001b[1;33m)\u001b[0m\u001b[1;33m\u001b[0m\u001b[1;33m\u001b[0m\u001b[0m\n\u001b[0m\u001b[0;32m    795\u001b[0m \u001b[1;33m\u001b[0m\u001b[0m\n\u001b[0;32m    796\u001b[0m     \u001b[1;32mdef\u001b[0m \u001b[0mline\u001b[0m\u001b[1;33m(\u001b[0m\u001b[0mself\u001b[0m\u001b[1;33m,\u001b[0m \u001b[0mx\u001b[0m\u001b[1;33m=\u001b[0m\u001b[1;32mNone\u001b[0m\u001b[1;33m,\u001b[0m \u001b[0my\u001b[0m\u001b[1;33m=\u001b[0m\u001b[1;32mNone\u001b[0m\u001b[1;33m,\u001b[0m \u001b[1;33m**\u001b[0m\u001b[0mkwargs\u001b[0m\u001b[1;33m)\u001b[0m\u001b[1;33m:\u001b[0m\u001b[1;33m\u001b[0m\u001b[1;33m\u001b[0m\u001b[0m\n",
      "\u001b[1;32m~\\Anaconda3\\lib\\site-packages\\pandas\\plotting\\_matplotlib\\__init__.py\u001b[0m in \u001b[0;36mplot\u001b[1;34m(data, kind, **kwargs)\u001b[0m\n\u001b[0;32m     60\u001b[0m             \u001b[0mkwargs\u001b[0m\u001b[1;33m[\u001b[0m\u001b[1;34m\"ax\"\u001b[0m\u001b[1;33m]\u001b[0m \u001b[1;33m=\u001b[0m \u001b[0mgetattr\u001b[0m\u001b[1;33m(\u001b[0m\u001b[0max\u001b[0m\u001b[1;33m,\u001b[0m \u001b[1;34m\"left_ax\"\u001b[0m\u001b[1;33m,\u001b[0m \u001b[0max\u001b[0m\u001b[1;33m)\u001b[0m\u001b[1;33m\u001b[0m\u001b[1;33m\u001b[0m\u001b[0m\n\u001b[0;32m     61\u001b[0m     \u001b[0mplot_obj\u001b[0m \u001b[1;33m=\u001b[0m \u001b[0mPLOT_CLASSES\u001b[0m\u001b[1;33m[\u001b[0m\u001b[0mkind\u001b[0m\u001b[1;33m]\u001b[0m\u001b[1;33m(\u001b[0m\u001b[0mdata\u001b[0m\u001b[1;33m,\u001b[0m \u001b[1;33m**\u001b[0m\u001b[0mkwargs\u001b[0m\u001b[1;33m)\u001b[0m\u001b[1;33m\u001b[0m\u001b[1;33m\u001b[0m\u001b[0m\n\u001b[1;32m---> 62\u001b[1;33m     \u001b[0mplot_obj\u001b[0m\u001b[1;33m.\u001b[0m\u001b[0mgenerate\u001b[0m\u001b[1;33m(\u001b[0m\u001b[1;33m)\u001b[0m\u001b[1;33m\u001b[0m\u001b[1;33m\u001b[0m\u001b[0m\n\u001b[0m\u001b[0;32m     63\u001b[0m     \u001b[0mplot_obj\u001b[0m\u001b[1;33m.\u001b[0m\u001b[0mdraw\u001b[0m\u001b[1;33m(\u001b[0m\u001b[1;33m)\u001b[0m\u001b[1;33m\u001b[0m\u001b[1;33m\u001b[0m\u001b[0m\n\u001b[0;32m     64\u001b[0m     \u001b[1;32mreturn\u001b[0m \u001b[0mplot_obj\u001b[0m\u001b[1;33m.\u001b[0m\u001b[0mresult\u001b[0m\u001b[1;33m\u001b[0m\u001b[1;33m\u001b[0m\u001b[0m\n",
      "\u001b[1;32m~\\Anaconda3\\lib\\site-packages\\pandas\\plotting\\_matplotlib\\core.py\u001b[0m in \u001b[0;36mgenerate\u001b[1;34m(self)\u001b[0m\n\u001b[0;32m    277\u001b[0m     \u001b[1;32mdef\u001b[0m \u001b[0mgenerate\u001b[0m\u001b[1;33m(\u001b[0m\u001b[0mself\u001b[0m\u001b[1;33m)\u001b[0m\u001b[1;33m:\u001b[0m\u001b[1;33m\u001b[0m\u001b[1;33m\u001b[0m\u001b[0m\n\u001b[0;32m    278\u001b[0m         \u001b[0mself\u001b[0m\u001b[1;33m.\u001b[0m\u001b[0m_args_adjust\u001b[0m\u001b[1;33m(\u001b[0m\u001b[1;33m)\u001b[0m\u001b[1;33m\u001b[0m\u001b[1;33m\u001b[0m\u001b[0m\n\u001b[1;32m--> 279\u001b[1;33m         \u001b[0mself\u001b[0m\u001b[1;33m.\u001b[0m\u001b[0m_compute_plot_data\u001b[0m\u001b[1;33m(\u001b[0m\u001b[1;33m)\u001b[0m\u001b[1;33m\u001b[0m\u001b[1;33m\u001b[0m\u001b[0m\n\u001b[0m\u001b[0;32m    280\u001b[0m         \u001b[0mself\u001b[0m\u001b[1;33m.\u001b[0m\u001b[0m_setup_subplots\u001b[0m\u001b[1;33m(\u001b[0m\u001b[1;33m)\u001b[0m\u001b[1;33m\u001b[0m\u001b[1;33m\u001b[0m\u001b[0m\n\u001b[0;32m    281\u001b[0m         \u001b[0mself\u001b[0m\u001b[1;33m.\u001b[0m\u001b[0m_make_plot\u001b[0m\u001b[1;33m(\u001b[0m\u001b[1;33m)\u001b[0m\u001b[1;33m\u001b[0m\u001b[1;33m\u001b[0m\u001b[0m\n",
      "\u001b[1;32m~\\Anaconda3\\lib\\site-packages\\pandas\\plotting\\_matplotlib\\core.py\u001b[0m in \u001b[0;36m_compute_plot_data\u001b[1;34m(self)\u001b[0m\n\u001b[0;32m    412\u001b[0m         \u001b[1;31m# no non-numeric frames or series allowed\u001b[0m\u001b[1;33m\u001b[0m\u001b[1;33m\u001b[0m\u001b[1;33m\u001b[0m\u001b[0m\n\u001b[0;32m    413\u001b[0m         \u001b[1;32mif\u001b[0m \u001b[0mis_empty\u001b[0m\u001b[1;33m:\u001b[0m\u001b[1;33m\u001b[0m\u001b[1;33m\u001b[0m\u001b[0m\n\u001b[1;32m--> 414\u001b[1;33m             \u001b[1;32mraise\u001b[0m \u001b[0mTypeError\u001b[0m\u001b[1;33m(\u001b[0m\u001b[1;34m\"no numeric data to plot\"\u001b[0m\u001b[1;33m)\u001b[0m\u001b[1;33m\u001b[0m\u001b[1;33m\u001b[0m\u001b[0m\n\u001b[0m\u001b[0;32m    415\u001b[0m \u001b[1;33m\u001b[0m\u001b[0m\n\u001b[0;32m    416\u001b[0m         \u001b[1;31m# GH25587: cast ExtensionArray of pandas (IntegerArray, etc.) to\u001b[0m\u001b[1;33m\u001b[0m\u001b[1;33m\u001b[0m\u001b[1;33m\u001b[0m\u001b[0m\n",
      "\u001b[1;31mTypeError\u001b[0m: no numeric data to plot"
     ]
    }
   ],
   "source": [
    "per_day\n",
    "per_day.plot(kind=\"line\")"
   ]
  },
  {
   "cell_type": "code",
   "execution_count": null,
   "metadata": {},
   "outputs": [],
   "source": [
    "#Group by sensor name scross 3 years\n",
    "results_df2019.groupby([\"sensor_name\"][\"\"])"
   ]
  }
 ],
 "metadata": {
  "kernelspec": {
   "display_name": "Python 3",
   "language": "python",
   "name": "python3"
  },
  "language_info": {
   "codemirror_mode": {
    "name": "ipython",
    "version": 3
   },
   "file_extension": ".py",
   "mimetype": "text/x-python",
   "name": "python",
   "nbconvert_exporter": "python",
   "pygments_lexer": "ipython3",
   "version": "3.7.4"
  }
 },
 "nbformat": 4,
 "nbformat_minor": 2
}

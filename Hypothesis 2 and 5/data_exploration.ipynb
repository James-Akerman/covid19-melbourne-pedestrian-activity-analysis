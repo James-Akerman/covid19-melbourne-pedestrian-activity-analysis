{
 "cells": [
  {
   "cell_type": "markdown",
   "metadata": {},
   "source": [
    "# Importing depencies"
   ]
  },
  {
   "cell_type": "code",
   "execution_count": 1,
   "metadata": {},
   "outputs": [],
   "source": [
    "from pandas import Series, date_range\n",
    "import pandas as pd\n",
    "from sodapy import Socrata\n",
    "#from keys import api_key\n",
    "from matplotlib import pyplot as plt\n",
    "import numpy as np\n",
    "import scipy.stats as stats\n",
    "from scipy.stats import linregress\n",
    "from matplotlib.pyplot import figure\n",
    "import scipy.stats as st"
   ]
  },
  {
   "cell_type": "markdown",
   "metadata": {},
   "source": [
    "\n"
   ]
  },
  {
   "cell_type": "code",
   "execution_count": 5,
   "metadata": {},
   "outputs": [
    {
     "name": "stdout",
     "output_type": "stream",
     "text": [
      "results_df2019\n",
      "results_df2020\n",
      "results_df2021\n"
     ]
    }
   ],
   "source": [
    "# client = Socrata(\"data.melbourne.vic.gov.au\", api_key)\n",
    "\n",
    "\n",
    "# for yr in [2019,2020,2021]:\n",
    "#     results = client.get(\"b2ak-trbp\", limit=800000,year=yr)\n",
    "#     # Convert to pandas DataFrame\n",
    "#     globals()[f'results_df{yr}'] = pd.DataFrame.from_records(results)\n",
    "#     print(f'results_df{yr}')\n"
   ]
  },
  {
   "cell_type": "code",
   "execution_count": 2,
   "metadata": {},
   "outputs": [],
   "source": [
    "# results_df2019.head()"
   ]
  },
  {
   "cell_type": "code",
   "execution_count": 7,
   "metadata": {},
   "outputs": [
    {
     "data": {
      "text/html": [
       "<div>\n",
       "<style scoped>\n",
       "    .dataframe tbody tr th:only-of-type {\n",
       "        vertical-align: middle;\n",
       "    }\n",
       "\n",
       "    .dataframe tbody tr th {\n",
       "        vertical-align: top;\n",
       "    }\n",
       "\n",
       "    .dataframe thead th {\n",
       "        text-align: right;\n",
       "    }\n",
       "</style>\n",
       "<table border=\"1\" class=\"dataframe\">\n",
       "  <thead>\n",
       "    <tr style=\"text-align: right;\">\n",
       "      <th></th>\n",
       "      <th>id</th>\n",
       "      <th>date_time</th>\n",
       "      <th>year</th>\n",
       "      <th>month</th>\n",
       "      <th>mdate</th>\n",
       "      <th>day</th>\n",
       "      <th>time</th>\n",
       "      <th>sensor_id</th>\n",
       "      <th>sensor_name</th>\n",
       "      <th>hourly_counts</th>\n",
       "    </tr>\n",
       "  </thead>\n",
       "  <tbody>\n",
       "    <tr>\n",
       "      <td>0</td>\n",
       "      <td>2966839</td>\n",
       "      <td>2020-01-01T00:00:00.000</td>\n",
       "      <td>2020</td>\n",
       "      <td>January</td>\n",
       "      <td>1</td>\n",
       "      <td>Wednesday</td>\n",
       "      <td>0</td>\n",
       "      <td>4</td>\n",
       "      <td>Town Hall (West)</td>\n",
       "      <td>3120</td>\n",
       "    </tr>\n",
       "    <tr>\n",
       "      <td>1</td>\n",
       "      <td>2966840</td>\n",
       "      <td>2020-01-01T00:00:00.000</td>\n",
       "      <td>2020</td>\n",
       "      <td>January</td>\n",
       "      <td>1</td>\n",
       "      <td>Wednesday</td>\n",
       "      <td>0</td>\n",
       "      <td>17</td>\n",
       "      <td>Collins Place (South)</td>\n",
       "      <td>945</td>\n",
       "    </tr>\n",
       "    <tr>\n",
       "      <td>2</td>\n",
       "      <td>2966841</td>\n",
       "      <td>2020-01-01T00:00:00.000</td>\n",
       "      <td>2020</td>\n",
       "      <td>January</td>\n",
       "      <td>1</td>\n",
       "      <td>Wednesday</td>\n",
       "      <td>0</td>\n",
       "      <td>18</td>\n",
       "      <td>Collins Place (North)</td>\n",
       "      <td>464</td>\n",
       "    </tr>\n",
       "    <tr>\n",
       "      <td>3</td>\n",
       "      <td>2966842</td>\n",
       "      <td>2020-01-01T00:00:00.000</td>\n",
       "      <td>2020</td>\n",
       "      <td>January</td>\n",
       "      <td>1</td>\n",
       "      <td>Wednesday</td>\n",
       "      <td>0</td>\n",
       "      <td>53</td>\n",
       "      <td>Collins St (North)</td>\n",
       "      <td>1590</td>\n",
       "    </tr>\n",
       "    <tr>\n",
       "      <td>4</td>\n",
       "      <td>2966843</td>\n",
       "      <td>2020-01-01T00:00:00.000</td>\n",
       "      <td>2020</td>\n",
       "      <td>January</td>\n",
       "      <td>1</td>\n",
       "      <td>Wednesday</td>\n",
       "      <td>0</td>\n",
       "      <td>2</td>\n",
       "      <td>Bourke Street Mall (South)</td>\n",
       "      <td>725</td>\n",
       "    </tr>\n",
       "  </tbody>\n",
       "</table>\n",
       "</div>"
      ],
      "text/plain": [
       "        id                date_time  year    month mdate        day time  \\\n",
       "0  2966839  2020-01-01T00:00:00.000  2020  January     1  Wednesday    0   \n",
       "1  2966840  2020-01-01T00:00:00.000  2020  January     1  Wednesday    0   \n",
       "2  2966841  2020-01-01T00:00:00.000  2020  January     1  Wednesday    0   \n",
       "3  2966842  2020-01-01T00:00:00.000  2020  January     1  Wednesday    0   \n",
       "4  2966843  2020-01-01T00:00:00.000  2020  January     1  Wednesday    0   \n",
       "\n",
       "  sensor_id                 sensor_name hourly_counts  \n",
       "0         4            Town Hall (West)          3120  \n",
       "1        17       Collins Place (South)           945  \n",
       "2        18       Collins Place (North)           464  \n",
       "3        53          Collins St (North)          1590  \n",
       "4         2  Bourke Street Mall (South)           725  "
      ]
     },
     "execution_count": 7,
     "metadata": {},
     "output_type": "execute_result"
    }
   ],
   "source": [
    "# results_df2020.head()"
   ]
  },
  {
   "cell_type": "code",
   "execution_count": 8,
   "metadata": {},
   "outputs": [
    {
     "data": {
      "text/html": [
       "<div>\n",
       "<style scoped>\n",
       "    .dataframe tbody tr th:only-of-type {\n",
       "        vertical-align: middle;\n",
       "    }\n",
       "\n",
       "    .dataframe tbody tr th {\n",
       "        vertical-align: top;\n",
       "    }\n",
       "\n",
       "    .dataframe thead th {\n",
       "        text-align: right;\n",
       "    }\n",
       "</style>\n",
       "<table border=\"1\" class=\"dataframe\">\n",
       "  <thead>\n",
       "    <tr style=\"text-align: right;\">\n",
       "      <th></th>\n",
       "      <th>id</th>\n",
       "      <th>date_time</th>\n",
       "      <th>year</th>\n",
       "      <th>month</th>\n",
       "      <th>mdate</th>\n",
       "      <th>day</th>\n",
       "      <th>time</th>\n",
       "      <th>sensor_id</th>\n",
       "      <th>sensor_name</th>\n",
       "      <th>hourly_counts</th>\n",
       "    </tr>\n",
       "  </thead>\n",
       "  <tbody>\n",
       "    <tr>\n",
       "      <td>0</td>\n",
       "      <td>3482939</td>\n",
       "      <td>2021-01-01T00:00:00.000</td>\n",
       "      <td>2021</td>\n",
       "      <td>January</td>\n",
       "      <td>1</td>\n",
       "      <td>Friday</td>\n",
       "      <td>0</td>\n",
       "      <td>4</td>\n",
       "      <td>Town Hall (West)</td>\n",
       "      <td>1461</td>\n",
       "    </tr>\n",
       "    <tr>\n",
       "      <td>1</td>\n",
       "      <td>3482940</td>\n",
       "      <td>2021-01-01T00:00:00.000</td>\n",
       "      <td>2021</td>\n",
       "      <td>January</td>\n",
       "      <td>1</td>\n",
       "      <td>Friday</td>\n",
       "      <td>0</td>\n",
       "      <td>17</td>\n",
       "      <td>Collins Place (South)</td>\n",
       "      <td>79</td>\n",
       "    </tr>\n",
       "    <tr>\n",
       "      <td>2</td>\n",
       "      <td>3482941</td>\n",
       "      <td>2021-01-01T00:00:00.000</td>\n",
       "      <td>2021</td>\n",
       "      <td>January</td>\n",
       "      <td>1</td>\n",
       "      <td>Friday</td>\n",
       "      <td>0</td>\n",
       "      <td>18</td>\n",
       "      <td>Collins Place (North)</td>\n",
       "      <td>33</td>\n",
       "    </tr>\n",
       "    <tr>\n",
       "      <td>3</td>\n",
       "      <td>3482942</td>\n",
       "      <td>2021-01-01T00:00:00.000</td>\n",
       "      <td>2021</td>\n",
       "      <td>January</td>\n",
       "      <td>1</td>\n",
       "      <td>Friday</td>\n",
       "      <td>0</td>\n",
       "      <td>53</td>\n",
       "      <td>Collins St (North)</td>\n",
       "      <td>196</td>\n",
       "    </tr>\n",
       "    <tr>\n",
       "      <td>4</td>\n",
       "      <td>3482943</td>\n",
       "      <td>2021-01-01T00:00:00.000</td>\n",
       "      <td>2021</td>\n",
       "      <td>January</td>\n",
       "      <td>1</td>\n",
       "      <td>Friday</td>\n",
       "      <td>0</td>\n",
       "      <td>2</td>\n",
       "      <td>Bourke Street Mall (South)</td>\n",
       "      <td>236</td>\n",
       "    </tr>\n",
       "  </tbody>\n",
       "</table>\n",
       "</div>"
      ],
      "text/plain": [
       "        id                date_time  year    month mdate     day time  \\\n",
       "0  3482939  2021-01-01T00:00:00.000  2021  January     1  Friday    0   \n",
       "1  3482940  2021-01-01T00:00:00.000  2021  January     1  Friday    0   \n",
       "2  3482941  2021-01-01T00:00:00.000  2021  January     1  Friday    0   \n",
       "3  3482942  2021-01-01T00:00:00.000  2021  January     1  Friday    0   \n",
       "4  3482943  2021-01-01T00:00:00.000  2021  January     1  Friday    0   \n",
       "\n",
       "  sensor_id                 sensor_name hourly_counts  \n",
       "0         4            Town Hall (West)          1461  \n",
       "1        17       Collins Place (South)            79  \n",
       "2        18       Collins Place (North)            33  \n",
       "3        53          Collins St (North)           196  \n",
       "4         2  Bourke Street Mall (South)           236  "
      ]
     },
     "execution_count": 8,
     "metadata": {},
     "output_type": "execute_result"
    }
   ],
   "source": [
    "# results_df2021.head()"
   ]
  },
  {
   "cell_type": "markdown",
   "metadata": {},
   "source": [
    "#### Validating data entries, e.g. 2021 only has data upto Aug."
   ]
  },
  {
   "cell_type": "code",
   "execution_count": 10,
   "metadata": {},
   "outputs": [
    {
     "name": "stdout",
     "output_type": "stream",
     "text": [
      "['November' 'September' 'October' 'December' 'August' 'January' 'February'\n",
      " 'March' 'May' 'April' 'June' 'July']\n",
      "['34' '39' '37' '40' '36' '29' '42' '43' '44' '35' '45' '46' '47' '48'\n",
      " '49' '50' '51' '52' '54' '55' '56' '57' '58' '59' '61' '62' '4' '17' '18'\n",
      " '53' '2' '1' '3' '15' '9' '10' '12' '11' '8' '7' '5' '6' '14' '26' '24'\n",
      " '23' '25' '21' '20' '19' '22' '27' '28' '31' '30' '41' '33' '60']\n",
      "(456829,)\n",
      "['4' '17' '18' '53' '2' '1' '3' '15' '9' '10' '12' '11' '8' '7' '5' '6'\n",
      " '14' '26' '24' '23' '25' '21' '20' '19' '22' '27' '28' '31' '30' '34'\n",
      " '39' '37' '40' '36' '29' '42' '43' '44' '35' '45' '41' '46' '47' '48'\n",
      " '49' '50' '51' '52' '54' '55' '56' '57' '58' '59' '61' '62' '63' '64'\n",
      " '65' '66' '67' '68' '69' '70' '71' '73' '72' '75' '76' '77' '78']\n",
      "['January' 'February' 'March' 'April' 'May' 'June' 'July' 'August']\n"
     ]
    }
   ],
   "source": [
    "# print(results_df2019[\"month\"].unique())\n",
    "# print(results_df2019[\"sensor_id\"].unique())\n",
    "# print(results_df2019[\"sensor_id\"].shape)\n",
    "# print(results_df2021[\"sensor_id\"].unique())\n",
    "# print(results_df2021[\"month\"].unique())"
   ]
  },
  {
   "cell_type": "code",
   "execution_count": 11,
   "metadata": {},
   "outputs": [],
   "source": [
    "# #Save df to csv files\n",
    "# results_df2019.to_csv('results_df2019.csv',index=False)\n",
    "# results_df2020.to_csv('results_df2020.csv',index=False)\n",
    "# results_df2021.to_csv('results_df2021.csv',index=False)"
   ]
  },
  {
   "cell_type": "markdown",
   "metadata": {},
   "source": [
    "### Data Gathering via API in file DataGatheringViaAPI.ipynb\n",
    "Data retrieval from stored csv files"
   ]
  },
  {
   "cell_type": "markdown",
   "metadata": {},
   "source": [
    "## Data Wrangling\n",
    "1. Drop NaN values\n",
    "2. Verify shape of the dataFrame for all 3 years\n",
    "3. Checking duplicates\n",
    "4. Correcting Data Type"
   ]
  },
  {
   "cell_type": "code",
   "execution_count": 5,
   "metadata": {},
   "outputs": [],
   "source": [
    "#e=pd.read_csv(\"employed full time 2019 2020 20121.csv\") "
   ]
  },
  {
   "cell_type": "code",
   "execution_count": 19,
   "metadata": {},
   "outputs": [],
   "source": [
    "e=pd.read_csv(\"employed full time 2019 2020 20121.csv\") \n",
    "l=pd.read_csv(\"lockdown.csv\") \n",
    "#print(e)\n",
    "results_df2019=pd.read_csv(\"results_df2019.csv\") \n",
    "results_df2020=pd.read_csv(\"results_df2020.csv\") \n",
    "results_df2021=pd.read_csv(\"results_df2021.csv\") \n",
    "#Data Pre Processing\n",
    "results_df2019=results_df2019.dropna(how=\"any\")\n",
    "results_df2019.shape\n",
    "results_df2019[\"hourly_counts\"]=pd.to_numeric(results_df2019[\"hourly_counts\"])\n",
    "results_df2020=results_df2020.dropna(how=\"any\")\n",
    "results_df2020.shape\n",
    "results_df2020[\"hourly_counts\"]=pd.to_numeric(results_df2020[\"hourly_counts\"])\n",
    "results_df2021=results_df2021.dropna(how=\"any\")\n",
    "results_df2021.shape\n",
    "results_df2021[\"hourly_counts\"]=pd.to_numeric(results_df2021[\"hourly_counts\"])\n"
   ]
  },
  {
   "cell_type": "markdown",
   "metadata": {},
   "source": [
    "#### Grouping data based on pedestrian count for each day in total for each sensor"
   ]
  },
  {
   "cell_type": "code",
   "execution_count": 20,
   "metadata": {},
   "outputs": [],
   "source": [
    "#count per day 2019\n",
    "results_df2019[\"daily_Count\"]=0\n",
    "per_day_count=results_df2019.groupby([\"sensor_name\",\"month\",\"day\"])[\"hourly_counts\"].sum()\n",
    "results_df2019_perdayCount=per_day_count.reset_index()\n",
    "\n",
    "#count per day 2020\n",
    "results_df2020[\"daily_Count\"]=0\n",
    "per_day_count2020=results_df2020.groupby([\"sensor_name\",\"month\",\"day\"])[\"hourly_counts\"].sum()\n",
    "results_df2020_perdayCount=per_day_count2020.reset_index()\n",
    "\n",
    "#count per day 2021\n",
    "results_df2021[\"daily_Count\"]=0\n",
    "per_day_count=results_df2021.groupby([\"sensor_name\",\"month\",\"day\"])[\"hourly_counts\"].sum()\n",
    "results_df2021_perdayCount=per_day_count.reset_index()\n",
    "\n"
   ]
  },
  {
   "cell_type": "markdown",
   "metadata": {},
   "source": [
    "#### Joining/ Merging dataset\n",
    "1. Total Pedestrian acitivity per month across year 2019,2020,2021\n",
    "2. Renaming columns"
   ]
  },
  {
   "cell_type": "code",
   "execution_count": 21,
   "metadata": {
    "scrolled": true
   },
   "outputs": [
    {
     "data": {
      "text/html": [
       "<div>\n",
       "<style scoped>\n",
       "    .dataframe tbody tr th:only-of-type {\n",
       "        vertical-align: middle;\n",
       "    }\n",
       "\n",
       "    .dataframe tbody tr th {\n",
       "        vertical-align: top;\n",
       "    }\n",
       "\n",
       "    .dataframe thead th {\n",
       "        text-align: right;\n",
       "    }\n",
       "</style>\n",
       "<table border=\"1\" class=\"dataframe\">\n",
       "  <thead>\n",
       "    <tr style=\"text-align: right;\">\n",
       "      <th></th>\n",
       "      <th>sensor_name</th>\n",
       "      <th>month</th>\n",
       "      <th>day</th>\n",
       "      <th>day_based_counts2019</th>\n",
       "      <th>day_based_counts2020</th>\n",
       "      <th>day_based_counts2021</th>\n",
       "    </tr>\n",
       "  </thead>\n",
       "  <tbody>\n",
       "    <tr>\n",
       "      <td>0</td>\n",
       "      <td>Alfred Place</td>\n",
       "      <td>April</td>\n",
       "      <td>Friday</td>\n",
       "      <td>29607.0</td>\n",
       "      <td>2309.0</td>\n",
       "      <td>8643.0</td>\n",
       "    </tr>\n",
       "    <tr>\n",
       "      <td>1</td>\n",
       "      <td>Alfred Place</td>\n",
       "      <td>April</td>\n",
       "      <td>Monday</td>\n",
       "      <td>37167.0</td>\n",
       "      <td>2410.0</td>\n",
       "      <td>7513.0</td>\n",
       "    </tr>\n",
       "    <tr>\n",
       "      <td>2</td>\n",
       "      <td>Alfred Place</td>\n",
       "      <td>April</td>\n",
       "      <td>Saturday</td>\n",
       "      <td>11889.0</td>\n",
       "      <td>806.0</td>\n",
       "      <td>4150.0</td>\n",
       "    </tr>\n",
       "    <tr>\n",
       "      <td>3</td>\n",
       "      <td>Alfred Place</td>\n",
       "      <td>April</td>\n",
       "      <td>Sunday</td>\n",
       "      <td>8249.0</td>\n",
       "      <td>566.0</td>\n",
       "      <td>2292.0</td>\n",
       "    </tr>\n",
       "    <tr>\n",
       "      <td>4</td>\n",
       "      <td>Alfred Place</td>\n",
       "      <td>April</td>\n",
       "      <td>Thursday</td>\n",
       "      <td>30234.0</td>\n",
       "      <td>3601.0</td>\n",
       "      <td>10258.0</td>\n",
       "    </tr>\n",
       "  </tbody>\n",
       "</table>\n",
       "</div>"
      ],
      "text/plain": [
       "    sensor_name  month       day  day_based_counts2019  day_based_counts2020  \\\n",
       "0  Alfred Place  April    Friday               29607.0                2309.0   \n",
       "1  Alfred Place  April    Monday               37167.0                2410.0   \n",
       "2  Alfred Place  April  Saturday               11889.0                 806.0   \n",
       "3  Alfred Place  April    Sunday                8249.0                 566.0   \n",
       "4  Alfred Place  April  Thursday               30234.0                3601.0   \n",
       "\n",
       "   day_based_counts2021  \n",
       "0                8643.0  \n",
       "1                7513.0  \n",
       "2                4150.0  \n",
       "3                2292.0  \n",
       "4               10258.0  "
      ]
     },
     "execution_count": 21,
     "metadata": {},
     "output_type": "execute_result"
    }
   ],
   "source": [
    "#Merge all the df\n",
    "merged_2019_2020_df=pd.merge(results_df2019_perdayCount,results_df2020_perdayCount,on=[\"sensor_name\",\"month\",\"day\"],suffixes=(\"_2019\",\"_2020\"),how=\"outer\")\n",
    "\n",
    "merged_2019_2020_df[\"month\"].unique()\n",
    "merged_2019_2020_df=merged_2019_2020_df.rename(columns={'hourly_counts_2019':'day_based_counts2019',\n",
    "                                                                 'hourly_counts_2020':'day_based_counts2020'})\n",
    "merged_2019_2020_df[\"month\"].unique()\n",
    "\n",
    "#Merge all the df\n",
    "merged_2019_2020_2021_df=pd.merge(merged_2019_2020_df,results_df2021_perdayCount,on=[\"sensor_name\",\"month\",\"day\"],how=\"left\")\n",
    "#merged_2019_2020_2021_df.dropna(how=\"any\",inplace=True)\n",
    "merged_2019_2020_2021_df=merged_2019_2020_2021_df.rename(columns={'hourly_counts':'day_based_counts2021'})\n",
    "merged_2019_2020_2021_df[\"month\"].unique()\n",
    "merged_2019_2020_2021_df.head()"
   ]
  },
  {
   "cell_type": "code",
   "execution_count": 22,
   "metadata": {},
   "outputs": [
    {
     "name": "stdout",
     "output_type": "stream",
     "text": [
      "(5329, 6)\n",
      "(5329, 6)\n"
     ]
    }
   ],
   "source": [
    "print(merged_2019_2020_2021_df.shape)\n",
    "merged_2019_2020_2021_df.drop_duplicates(keep='first',inplace=True)\n",
    "print(merged_2019_2020_2021_df.shape)"
   ]
  },
  {
   "cell_type": "markdown",
   "metadata": {},
   "source": [
    "#### Complete dataset view"
   ]
  },
  {
   "cell_type": "code",
   "execution_count": 23,
   "metadata": {},
   "outputs": [],
   "source": [
    "#Dataset full view\n",
    "#pd.set_option(\"max_columns\", None) # show all cols\n",
    "#pd.set_option(\"expand_frame_repr\", True)\n",
    "#pd.set_option('display.max_rows', None)\n",
    "#print(merged_2019_2020_2021_df)"
   ]
  },
  {
   "cell_type": "markdown",
   "metadata": {},
   "source": [
    "#### Total sensors and counts in the Dataset"
   ]
  },
  {
   "cell_type": "code",
   "execution_count": 24,
   "metadata": {},
   "outputs": [
    {
     "name": "stdout",
     "output_type": "stream",
     "text": [
      "['Alfred Place', 'Birrarung Marr', 'Bourke St - Spencer St (North)', 'Bourke St Bridge', 'Bourke St-Russell St (West)', 'Bourke Street Mall (North)', 'Bourke Street Mall (South)', 'Chinatown-Lt Bourke St (South)', 'Chinatown-Swanston St (North)', 'Collins Place (North)', 'Collins Place (South)', 'Collins St (North)', 'Elizabeth St-La Trobe St (East)', 'Elizabeth St-Lonsdale St (South)', 'Faraday St-Lygon St (West)', 'Flinders La - Swanston St (West) Temp', 'Flinders La-Swanston St (West)', 'Flinders St-Elizabeth St (East)', 'Flinders St-Spark La', 'Flinders St-Spring St (West)', 'Flinders Street Station Underpass', 'Flinders la - Swanston St (West) Temp', 'Grattan St-Swanston St (West)', 'La Trobe St (North)', 'Lincoln-Swanston (West)', 'Lincoln-Swanston(West)', 'Little Collins St-Swanston St (East)', 'Lonsdale St (South)', 'Lonsdale St - Elizabeth St (North)', 'Lonsdale St-Spring St (West)', 'Lygon St (East)', 'Lygon St (West)', 'Melbourne Central', 'Melbourne Central-Elizabeth St (East)', 'Melbourne Convention Exhibition Centre', 'Monash Rd-Swanston St (West)', 'New Quay', 'Pelham St (S)', 'Pelham St (South)', 'Princes Bridge', 'QV Market-Elizabeth St (West)', 'QV Market-Peel St', 'QVM-Franklin St (North)', 'QVM-Queen St (East)', 'QVM-Therry St (South)', 'Queen St (West)', 'Sandridge Bridge', 'Southbank', 'Southern Cross Station', 'Spencer St-Collins St (North)', 'Spencer St-Collins St (South)', 'St Kilda Rd-Alexandra Gardens', 'State Library', 'Swanston St - RMIT Building 14', 'Swanston St - RMIT Building 80', 'The Arts Centre', 'Tin Alley-Swanston St (West)', 'Town Hall (West)', 'Victoria Point', 'Waterfront City', 'Webb Bridge', '231 Bourke St', 'Bourke St - Spencer St (South)', 'Errol Street (East)', 'Flinders Ln -Degraves St (Crossing)', 'Flinders Ln -Degraves St (North)', 'Flinders Ln -Degraves St (South)', 'Royal Pde-Grattan St', 'State Library-New', 'Swanston St - City Square', 'Westwood Place']\n"
     ]
    },
    {
     "data": {
      "text/plain": [
       "71"
      ]
     },
     "execution_count": 24,
     "metadata": {},
     "output_type": "execute_result"
    }
   ],
   "source": [
    "#common sensors across the db\n",
    "a=merged_2019_2020_2021_df[\"sensor_name\"].unique().tolist()\n",
    "print(a)\n",
    "len(a)\n"
   ]
  },
  {
   "cell_type": "markdown",
   "metadata": {},
   "source": [
    "#### Data sort: Data sorted using Monthly order using categorical data type"
   ]
  },
  {
   "cell_type": "code",
   "execution_count": 25,
   "metadata": {},
   "outputs": [
    {
     "name": "stdout",
     "output_type": "stream",
     "text": [
      "Old df: Unsorted\n"
     ]
    },
    {
     "data": {
      "text/html": [
       "<div>\n",
       "<style scoped>\n",
       "    .dataframe tbody tr th:only-of-type {\n",
       "        vertical-align: middle;\n",
       "    }\n",
       "\n",
       "    .dataframe tbody tr th {\n",
       "        vertical-align: top;\n",
       "    }\n",
       "\n",
       "    .dataframe thead th {\n",
       "        text-align: right;\n",
       "    }\n",
       "</style>\n",
       "<table border=\"1\" class=\"dataframe\">\n",
       "  <thead>\n",
       "    <tr style=\"text-align: right;\">\n",
       "      <th></th>\n",
       "      <th>month</th>\n",
       "      <th>day_based_counts2019</th>\n",
       "      <th>day_based_counts2020</th>\n",
       "      <th>day_based_counts2021</th>\n",
       "    </tr>\n",
       "    <tr>\n",
       "      <th>month</th>\n",
       "      <th></th>\n",
       "      <th></th>\n",
       "      <th></th>\n",
       "      <th></th>\n",
       "    </tr>\n",
       "  </thead>\n",
       "  <tbody>\n",
       "    <tr>\n",
       "      <td>April</td>\n",
       "      <td>April</td>\n",
       "      <td>22818120.0</td>\n",
       "      <td>3965628.0</td>\n",
       "      <td>15917378.0</td>\n",
       "    </tr>\n",
       "    <tr>\n",
       "      <td>August</td>\n",
       "      <td>August</td>\n",
       "      <td>23896524.0</td>\n",
       "      <td>3157701.0</td>\n",
       "      <td>5678484.0</td>\n",
       "    </tr>\n",
       "    <tr>\n",
       "      <td>December</td>\n",
       "      <td>December</td>\n",
       "      <td>24931172.0</td>\n",
       "      <td>14153423.0</td>\n",
       "      <td>0.0</td>\n",
       "    </tr>\n",
       "    <tr>\n",
       "      <td>February</td>\n",
       "      <td>February</td>\n",
       "      <td>18816254.0</td>\n",
       "      <td>21853368.0</td>\n",
       "      <td>8775020.0</td>\n",
       "    </tr>\n",
       "    <tr>\n",
       "      <td>January</td>\n",
       "      <td>January</td>\n",
       "      <td>18904686.0</td>\n",
       "      <td>23189121.0</td>\n",
       "      <td>10904769.0</td>\n",
       "    </tr>\n",
       "    <tr>\n",
       "      <td>July</td>\n",
       "      <td>July</td>\n",
       "      <td>22744685.0</td>\n",
       "      <td>5394964.0</td>\n",
       "      <td>10791452.0</td>\n",
       "    </tr>\n",
       "    <tr>\n",
       "      <td>June</td>\n",
       "      <td>June</td>\n",
       "      <td>20194222.0</td>\n",
       "      <td>8573779.0</td>\n",
       "      <td>9123174.0</td>\n",
       "    </tr>\n",
       "    <tr>\n",
       "      <td>March</td>\n",
       "      <td>March</td>\n",
       "      <td>23181242.0</td>\n",
       "      <td>16576373.0</td>\n",
       "      <td>13412576.0</td>\n",
       "    </tr>\n",
       "    <tr>\n",
       "      <td>May</td>\n",
       "      <td>May</td>\n",
       "      <td>21590920.0</td>\n",
       "      <td>6257626.0</td>\n",
       "      <td>8189692.0</td>\n",
       "    </tr>\n",
       "    <tr>\n",
       "      <td>November</td>\n",
       "      <td>November</td>\n",
       "      <td>23487511.0</td>\n",
       "      <td>9755676.0</td>\n",
       "      <td>0.0</td>\n",
       "    </tr>\n",
       "    <tr>\n",
       "      <td>October</td>\n",
       "      <td>October</td>\n",
       "      <td>24738547.0</td>\n",
       "      <td>5274979.0</td>\n",
       "      <td>0.0</td>\n",
       "    </tr>\n",
       "    <tr>\n",
       "      <td>September</td>\n",
       "      <td>September</td>\n",
       "      <td>21107792.0</td>\n",
       "      <td>3789356.0</td>\n",
       "      <td>0.0</td>\n",
       "    </tr>\n",
       "  </tbody>\n",
       "</table>\n",
       "</div>"
      ],
      "text/plain": [
       "               month  day_based_counts2019  day_based_counts2020  \\\n",
       "month                                                              \n",
       "April          April            22818120.0             3965628.0   \n",
       "August        August            23896524.0             3157701.0   \n",
       "December    December            24931172.0            14153423.0   \n",
       "February    February            18816254.0            21853368.0   \n",
       "January      January            18904686.0            23189121.0   \n",
       "July            July            22744685.0             5394964.0   \n",
       "June            June            20194222.0             8573779.0   \n",
       "March          March            23181242.0            16576373.0   \n",
       "May              May            21590920.0             6257626.0   \n",
       "November    November            23487511.0             9755676.0   \n",
       "October      October            24738547.0             5274979.0   \n",
       "September  September            21107792.0             3789356.0   \n",
       "\n",
       "           day_based_counts2021  \n",
       "month                            \n",
       "April                15917378.0  \n",
       "August                5678484.0  \n",
       "December                    0.0  \n",
       "February              8775020.0  \n",
       "January              10904769.0  \n",
       "July                 10791452.0  \n",
       "June                  9123174.0  \n",
       "March                13412576.0  \n",
       "May                   8189692.0  \n",
       "November                    0.0  \n",
       "October                     0.0  \n",
       "September                   0.0  "
      ]
     },
     "execution_count": 25,
     "metadata": {},
     "output_type": "execute_result"
    }
   ],
   "source": [
    "month_count2019_20_df=merged_2019_2020_2021_df.groupby([\"month\"])[\"day_based_counts2019\",\"day_based_counts2020\",\"day_based_counts2021\"].sum()\n",
    "month_count2019_20_df.head()\n",
    "df=month_count2019_20_df\n",
    "df=df.reset_index()\n",
    "print(\"Old df: Unsorted\")\n",
    "sorted_months=[\"January\",\"February\",\"March\",\"April\",\"May\",\"June\",\"July\",\"August\", \"September\", \"October\",\"November\", \"December\"]\n",
    "df.index=pd.CategoricalIndex(df[\"month\"],categories=sorted_months,ordered=True)\n",
    "df"
   ]
  },
  {
   "cell_type": "code",
   "execution_count": 26,
   "metadata": {},
   "outputs": [],
   "source": [
    "df=df.sort_index().reset_index(drop=True)\n",
    "df\n",
    "df.to_csv('df.csv',index=False)"
   ]
  },
  {
   "cell_type": "markdown",
   "metadata": {},
   "source": [
    "#### Merge full-time employment data for year 2019, 2020, 2021"
   ]
  },
  {
   "cell_type": "code",
   "execution_count": 27,
   "metadata": {},
   "outputs": [],
   "source": [
    "df3_employed=df.merge(e,on=\"month\")\n",
    "df3_employed\n",
    "df3_employed.to_csv('df3_employed.csv',index=False)"
   ]
  },
  {
   "cell_type": "code",
   "execution_count": null,
   "metadata": {},
   "outputs": [],
   "source": []
  },
  {
   "cell_type": "code",
   "execution_count": null,
   "metadata": {},
   "outputs": [],
   "source": []
  }
 ],
 "metadata": {
  "kernelspec": {
   "display_name": "Python 3",
   "language": "python",
   "name": "python3"
  },
  "language_info": {
   "codemirror_mode": {
    "name": "ipython",
    "version": 3
   },
   "file_extension": ".py",
   "mimetype": "text/x-python",
   "name": "python",
   "nbconvert_exporter": "python",
   "pygments_lexer": "ipython3",
   "version": "3.7.4"
  }
 },
 "nbformat": 4,
 "nbformat_minor": 2
}

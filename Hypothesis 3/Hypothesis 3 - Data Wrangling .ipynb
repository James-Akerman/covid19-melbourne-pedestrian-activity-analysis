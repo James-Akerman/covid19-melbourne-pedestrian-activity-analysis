{
 "cells": [
  {
   "cell_type": "markdown",
   "id": "0bd8b899",
   "metadata": {},
   "source": [
    "# City of Melbourne"
   ]
  },
  {
   "cell_type": "markdown",
   "id": "a4475679",
   "metadata": {},
   "source": [
    "### Set up everything"
   ]
  },
  {
   "cell_type": "code",
   "execution_count": 2,
   "id": "17b0e924",
   "metadata": {},
   "outputs": [],
   "source": [
    "# Set up\n",
    "import pandas as pd\n",
    "from sodapy import Socrata\n",
    "import requests\n",
    "from pprint import pprint\n",
    "import gmaps\n",
    "import os\n",
    "import json\n",
    "\n",
    "from api_keys_tokens import MyAppToken\n",
    "from api_keys_tokens import google_key"
   ]
  },
  {
   "cell_type": "markdown",
   "id": "fd7c5a41",
   "metadata": {},
   "source": [
    "### Get All The Pedestrian Data From the City of Melbourne via an API call"
   ]
  },
  {
   "cell_type": "code",
   "execution_count": 7,
   "id": "d134ccab",
   "metadata": {},
   "outputs": [],
   "source": [
    "# Pedestrian Counting System - Monthly (counts per hour)\n",
    "# Resource - https://dev.socrata.com/foundry/data.melbourne.vic.gov.au/b2ak-trbp\n",
    "\n",
    "client = Socrata(\"data.melbourne.vic.gov.au\", MyAppToken )\n",
    "pedestrian_count_dataset_id = \"b2ak-trbp\"\n",
    "pedestrian_count_request = client.get(pedestrian_count_dataset_id, limit=4000000)\n",
    "Convert to pandas DataFrame\n",
    "\n",
    "# Assign it to a data frame\n",
    "pedestrian_count_df = pd.DataFrame.from_records(pedestrian_count_request)"
   ]
  },
  {
   "cell_type": "code",
   "execution_count": 9,
   "id": "6b7c2828",
   "metadata": {},
   "outputs": [],
   "source": [
    "# Send result to a csv file\n",
    "pedestrian_count_df.to_csv(\"Melbourne City Council Data/all_pedestrian_data.csv\",encoding='utf-8', index=False)"
   ]
  },
  {
   "cell_type": "markdown",
   "id": "2a0d3eee",
   "metadata": {},
   "source": [
    "### Make a CSV file containing pedestrian data from all years"
   ]
  },
  {
   "cell_type": "code",
   "execution_count": 9,
   "id": "5561870f",
   "metadata": {},
   "outputs": [],
   "source": [
    "# send to a csv file\n",
    "sensor_location_df.to_csv(\"Melbourne City Council Data/all_sensor_location_data.csv\",encoding='utf-8', index=False)"
   ]
  },
  {
   "cell_type": "markdown",
   "id": "4386d743",
   "metadata": {},
   "source": [
    "### Make a CSV file containing only pedestrian data from August 2019 to August 2021"
   ]
  },
  {
   "cell_type": "code",
   "execution_count": null,
   "id": "eb2f4848",
   "metadata": {},
   "outputs": [],
   "source": [
    "data = pd.read_csv(\"Melbourne City Council Data/all_pedestrian_data.csv\")\n",
    "\n",
    "# Find only the data between the beginning of August 2019 and the end of August 2021\n",
    "filtered_df = data.loc[(data['date_time'] >= '2019-08-01') & (data['date_time'] < '2021-09-01')].sort_values([\"id\"])\n",
    "\n",
    "# Send result to a DataFile\n",
    "filtered_df.to_csv(\"Melbourne City Council Data/filtered_pedestrian_data.csv\",encoding='utf-8', index=False)"
   ]
  },
  {
   "cell_type": "markdown",
   "id": "afbe8eb9",
   "metadata": {},
   "source": [
    "### Get all the sensor location data via an API call"
   ]
  },
  {
   "cell_type": "code",
   "execution_count": 11,
   "id": "ccc1178e",
   "metadata": {},
   "outputs": [],
   "source": [
    "# Sensor Locations\n",
    "# Resource - https://dev.socrata.com/foundry/data.melbourne.vic.gov.au/h57g-5234\n",
    "client = Socrata(\"data.melbourne.vic.gov.au\", MyAppToken )\n",
    "sensor_location_id = \"h57g-5234\"\n",
    "sensor_location_id_request = client.get(sensor_location_id, limit=100)\n",
    "\n",
    "# Convert to pandas DataFrame\n",
    "sensor_location_df = pd.DataFrame.from_records(sensor_location_id_request)"
   ]
  },
  {
   "cell_type": "markdown",
   "id": "802312af",
   "metadata": {},
   "source": [
    "### Find the Postcode for Each Sensor  (using Google API Mapping)"
   ]
  },
  {
   "cell_type": "code",
   "execution_count": 10,
   "id": "3d6c70b9",
   "metadata": {},
   "outputs": [
    {
     "name": "stdout",
     "output_type": "stream",
     "text": [
      "380A Elizabeth St, Melbourne VIC 3000, Australia\n",
      "-----------------------------------------------------\n",
      "150 Swanston St, Melbourne VIC 3000, Australia\n",
      "-----------------------------------------------------\n",
      "418 Swanston St, Melbourne VIC 3000, Australia\n",
      "-----------------------------------------------------\n",
      "Unnamed Road, Melbourne VIC 3004, Australia\n",
      "-----------------------------------------------------\n",
      "123 Flinders St, Melbourne VIC 3000, Australia\n",
      "-----------------------------------------------------\n",
      "252 La Trobe St, Melbourne VIC 3000, Australia\n",
      "-----------------------------------------------------\n",
      "231 Bourke Street Mall, Melbourne VIC 3000, Australia\n",
      "-----------------------------------------------------\n",
      "Sandridge Bridge, 1 Southbank Blvd, Southbank VIC 3006, Australia\n",
      "-----------------------------------------------------\n",
      "703/37 Swanston St, Melbourne VIC 3000, Australia\n",
      "-----------------------------------------------------\n",
      "2 Clarendon St, South Wharf VIC 3006, Australia\n",
      "-----------------------------------------------------\n",
      "3/37 Swanston St, Melbourne VIC 3000, Australia\n",
      "-----------------------------------------------------\n",
      "10-Royal Melbourne Hospital/Royal Pde (Melbourne City), Parkville VIC 3010, Australia\n",
      "-----------------------------------------------------\n",
      "121-127 Little Collins St, Melbourne VIC 3000, Australia\n",
      "-----------------------------------------------------\n",
      "15 Collins St, Melbourne VIC 3000, Australia\n",
      "-----------------------------------------------------\n",
      "Melbourne : Level 1, 2 &, 11, 440 Collins St, Melbourne VIC 3000, Australia\n",
      "-----------------------------------------------------\n",
      "300 Swanston St, Melbourne VIC 3000, Australia\n",
      "-----------------------------------------------------\n",
      "300 Swanston St, Melbourne VIC 3000, Australia\n",
      "-----------------------------------------------------\n",
      "20 Degraves St, Melbourne VIC 3000, Australia\n",
      "-----------------------------------------------------\n",
      "326 Lonsdale St, Melbourne VIC 3000, Australia\n",
      "-----------------------------------------------------\n",
      "258-260 Flinders Ln, Melbourne VIC 3000, Australia\n",
      "-----------------------------------------------------\n",
      "258-260 Flinders Ln, Melbourne VIC 3000, Australia\n",
      "-----------------------------------------------------\n",
      "301 Swanston St, Melbourne VIC 3000, Australia\n",
      "-----------------------------------------------------\n",
      "St Kilda Rd, Southbank VIC 3006, Australia\n",
      "-----------------------------------------------------\n",
      "20-26 Errol St, North Melbourne VIC 3051, Australia\n",
      "-----------------------------------------------------\n",
      "69 Bourke St, Melbourne VIC 3000, Australia\n",
      "-----------------------------------------------------\n",
      "12 Spring St, Melbourne VIC 3000, Australia\n",
      "-----------------------------------------------------\n",
      "6/277 William St, Melbourne VIC 3000, Australia\n",
      "-----------------------------------------------------\n",
      "Fish Bar, 25 Newquay Promenade, Docklands VIC 3008, Australia\n",
      "-----------------------------------------------------\n",
      "level 5/250 Collins St, Melbourne VIC 3000, Australia\n",
      "-----------------------------------------------------\n",
      "704 Collins St, Docklands VIC 3008, Australia\n",
      "-----------------------------------------------------\n",
      "195 Lonsdale St, Melbourne VIC 3000, Australia\n",
      "-----------------------------------------------------\n",
      "220 Flinders Ln, Melbourne VIC 3000, Australia\n",
      "-----------------------------------------------------\n",
      "68 Swanston St, Melbourne VIC 3000, Australia\n",
      "-----------------------------------------------------\n",
      "119 Capitol Arcade, Melbourne VIC 3000, Australia\n",
      "-----------------------------------------------------\n",
      "147-155 Pelham St, Carlton VIC 3053, Australia\n",
      "-----------------------------------------------------\n",
      "368-372 Lonsdale St, Melbourne VIC 3000, Australia\n",
      "-----------------------------------------------------\n",
      "Melbourne University - Swanston St, Parkville VIC 3010, Australia\n",
      "-----------------------------------------------------\n",
      "Flinders Street Railway Station, Flinders St, Melbourne VIC 3000, Australia\n",
      "-----------------------------------------------------\n",
      "309-311 Lygon St, Carlton VIC 3053, Australia\n",
      "-----------------------------------------------------\n",
      "357 Lonsdale St, Melbourne VIC 3000, Australia\n",
      "-----------------------------------------------------\n",
      "108/112, 125 Bourke Street Mall, Melbourne VIC 3000, Australia\n",
      "-----------------------------------------------------\n",
      "280-282 Bourke St, Melbourne VIC 3000, Australia\n",
      "-----------------------------------------------------\n",
      "435-445 Swanston St, Melbourne VIC 3000, Australia\n",
      "-----------------------------------------------------\n",
      "139 Little Bourke St, Melbourne VIC 3004, Australia\n",
      "-----------------------------------------------------\n",
      "1 Spring St, Melbourne VIC 3000, Australia\n",
      "-----------------------------------------------------\n",
      "700 Bourke St, Docklands VIC 3008, Australia\n",
      "-----------------------------------------------------\n",
      "207 Spring St, Melbourne VIC 3000, Australia\n",
      "-----------------------------------------------------\n",
      "169 Lygon St, Carlton VIC 3053, Australia\n",
      "-----------------------------------------------------\n",
      "236 Swanston St, Melbourne VIC 3000, Australia\n",
      "-----------------------------------------------------\n",
      "174-176 Lygon St, Carlton VIC 3053, Australia\n",
      "-----------------------------------------------------\n",
      "85 Queen St, Melbourne VIC 3000, Australia\n",
      "-----------------------------------------------------\n",
      "696 Bourke St, Melbourne VIC 3000, Australia\n",
      "-----------------------------------------------------\n",
      "3 Navigation Dr, Docklands VIC 3008, Australia\n",
      "-----------------------------------------------------\n",
      "84 Newquay Promenade, Docklands VIC 3008, Australia\n",
      "-----------------------------------------------------\n",
      "10 Collins St, Melbourne VIC 3000, Australia\n",
      "-----------------------------------------------------\n",
      "501-503 Elizabeth St, Melbourne VIC 3000, Australia\n",
      "-----------------------------------------------------\n",
      "443 Elizabeth St, Melbourne VIC 3000, Australia\n",
      "-----------------------------------------------------\n",
      "256 Collins St, Melbourne VIC 3004, Australia\n",
      "-----------------------------------------------------\n",
      "316 Flinders St, Melbourne VIC 3000, Australia\n",
      "-----------------------------------------------------\n",
      "622 Collins St, Melbourne VIC 3000, Australia\n",
      "-----------------------------------------------------\n",
      "165 Victoria St, Melbourne VIC 3004, Australia\n",
      "-----------------------------------------------------\n",
      "100 St Kilda Rd, Melbourne VIC 3004, Australia\n",
      "-----------------------------------------------------\n",
      "School of Physics (David Caro Building) - Building 192, Gate 1, corner Tin Alley and Swanston Street, The University of Melbourne, Parkville VIC 3010, Australia\n",
      "-----------------------------------------------------\n",
      "75 Victoria St, Melbourne VIC 3000, Australia\n",
      "-----------------------------------------------------\n",
      "118 Franklin St, Melbourne VIC 3000, Australia\n",
      "-----------------------------------------------------\n",
      "768A Bourke St, Docklands VIC 3008, Australia\n",
      "-----------------------------------------------------\n",
      "801 Swanston St, Melbourne VIC 3052, Australia\n",
      "-----------------------------------------------------\n",
      "669 Bourke St, Melbourne VIC 3000, Australia\n",
      "-----------------------------------------------------\n",
      "4 Flinders St, East Melbourne VIC 3000, Australia\n",
      "-----------------------------------------------------\n",
      "62 Spencer St, Melbourne VIC 3000, Australia\n",
      "-----------------------------------------------------\n",
      "607 Swanston St, Carlton VIC 3053, Australia\n",
      "-----------------------------------------------------\n",
      "206 Bellair St, Kensington VIC 3031, Australia\n",
      "-----------------------------------------------------\n",
      "165 Russell St, Melbourne VIC 3000, Australia\n",
      "-----------------------------------------------------\n",
      "D2-CentralPier/Harbour Esp, Docklands VIC 3008, Australia\n",
      "-----------------------------------------------------\n",
      "183-203 Harbour Esplanade, Docklands VIC 3008, Australia\n",
      "-----------------------------------------------------\n",
      "Southbank Promenade, 2 Southgate Ave, Southbank VIC 3006, Australia\n",
      "-----------------------------------------------------\n",
      "1 Flinders St, Melbourne VIC 3000, Australia\n",
      "-----------------------------------------------------\n"
     ]
    }
   ],
   "source": [
    "# Get the data\n",
    "data = pd.read_csv(\"Melbourne City Council Data/filtered_pedestrian_data.csv\")\n",
    "sensor_data = pd.read_csv(\"Melbourne City Council Data/all_sensor_location_data.csv\")\n",
    "\n",
    "# Add a \"Postcode\" column to the DataFrame.\n",
    "sensor_data[\"Address\"] = \"\"\n",
    "# base url\n",
    "base_url = \"https://maps.googleapis.com/maps/api/geocode/json?\"\n",
    "\n",
    "# use iterrows to iterate through pandas dataframe\n",
    "for index, row in sensor_data.iterrows():\n",
    "    \n",
    "    # Set the parameters of the searc\n",
    "    params = {\n",
    "    \"latlng\": f\"{sensor_data.loc[index, 'latitude']}, {sensor_data.loc[index, 'longitude']}\",\n",
    "    \"key\": google_key\n",
    "    }\n",
    "    \n",
    "    # assemble url and make API request\n",
    "    try: \n",
    "        response = requests.get(base_url, params=params).json()\n",
    "        # Get the postcode\n",
    "        address = response[\"results\"][0][\"formatted_address\"]\n",
    "        # Assign it to the hotel DataFrame\n",
    "        sensor_data.loc[index, 'Address'] = address\n",
    "        # Log the result\n",
    "        print(address)\n",
    "        \n",
    "    except (KeyError, IndexError):\n",
    "        print(\"Missing field/result... skipping.\")\n",
    "    \n",
    "    print(\"-----------------------------------------------------\")\n"
   ]
  },
  {
   "cell_type": "code",
   "execution_count": 121,
   "id": "220a38d4",
   "metadata": {},
   "outputs": [],
   "source": [
    "sensor_data[\"Postcode\"] = sensor_data[\"Address\"].str.slice(start=-15,stop=-11)"
   ]
  },
  {
   "cell_type": "code",
   "execution_count": 123,
   "id": "b0749cc4",
   "metadata": {},
   "outputs": [],
   "source": [
    "sensor_data.to_csv(\"Melbourne City Council Data/sensor_data_postcode.csv\")"
   ]
  },
  {
   "cell_type": "markdown",
   "id": "b2d94593",
   "metadata": {},
   "source": [
    "### Find Postcodes in Pedestrian DataSet"
   ]
  },
  {
   "cell_type": "code",
   "execution_count": 23,
   "id": "b6cb0bb8",
   "metadata": {},
   "outputs": [],
   "source": [
    "sensor_data_postcode = pd.read_csv(\"Melbourne City Council Data/sensor_data_postcode.csv\")\n",
    "postcode_list = sensor_data_postcode[\"Postcode\"].unique()"
   ]
  },
  {
   "cell_type": "markdown",
   "id": "abc666e8",
   "metadata": {},
   "source": [
    "### Sum up the pedestrian counts per sensor per month\n",
    "#### (Note: based on Pedestrian Data filtered from August 2019 to August 2021)"
   ]
  },
  {
   "cell_type": "code",
   "execution_count": null,
   "id": "31eb3ea4",
   "metadata": {},
   "outputs": [],
   "source": [
    "# Read the data\n",
    "pedestrian_data = pd.read_csv(\"Melbourne City Council Data/filtered_pedestrian_data.csv\")\n",
    "\n",
    "# Sum the data by year, month, and sensor id\n",
    "summed_pedestrian_data = pedestrian_data.groupby([\"year\",\"month\",\"sensor_id\"]).sum(\"hourly_counts\")\n",
    "summed_pedestrian_data = summed_pedestrian_data[\"hourly_counts\"].reset_index()\n",
    "\n",
    "summed_pedestrian_data[\"month-year\"] = summed_pedestrian_data[\"month\"].astype(str) + \" \" + summed_pedestrian_data[\"year\"].astype(str)\n",
    "summed_pedestrian_data = summed_pedestrian_data.drop([\"year\",\"month\"], axis=1)\n",
    "# rename hourly count column\n",
    "summed_pedestrian_data = summed_pedestrian_data.rename(columns={\"hourly_counts\": \"monthly_count\"})\n",
    "\n",
    "ped_df = summed_pedestrian_data.pivot(index=\"sensor_id\", columns=\"month-year\", values=\"monthly_count\")\n",
    "ped_df"
   ]
  },
  {
   "cell_type": "markdown",
   "id": "fce2566d",
   "metadata": {},
   "source": [
    "### Clean the data ( Remove all Null Values)"
   ]
  },
  {
   "cell_type": "code",
   "execution_count": null,
   "id": "9e1f89e4",
   "metadata": {},
   "outputs": [],
   "source": [
    "# Count NA values in each column\n",
    "ped_df.isnull().sum(axis=1)\n",
    "\n",
    "#Remove all rows with NA values in them\n",
    "ped_df = ped_df.dropna()\n",
    "# Remove the extra columns\n",
    "ped_df = ped_df.reset_index()\n",
    "ped_df = ped_df.rename_axis(None, axis=1)"
   ]
  },
  {
   "cell_type": "markdown",
   "id": "11dab95b",
   "metadata": {},
   "source": [
    "### Create a CSV file of the summed values"
   ]
  },
  {
   "cell_type": "code",
   "execution_count": null,
   "id": "4024f1db",
   "metadata": {},
   "outputs": [],
   "source": [
    "# Send to csv\n",
    "ped_df.to_csv(\"Melbourne City Council Data/summed_pedestrian_count_sensor_Aug19Aug20.csv\",index=False)"
   ]
  },
  {
   "cell_type": "markdown",
   "id": "7c12eed3",
   "metadata": {},
   "source": [
    "### Merge summed pedestrian count per sensor per month with sensor location data"
   ]
  },
  {
   "cell_type": "code",
   "execution_count": null,
   "id": "9bfc996b",
   "metadata": {},
   "outputs": [],
   "source": [
    "# Get sensor location data\n",
    "sensor_data = pd.read_csv(\"Melbourne City Council Data/sensor_data_postcode.csv\")\n",
    "\n",
    "# Merge it with the other summed Pedestrian values data.\n",
    "pedestrian_location_sensor_data = ped_df.merge(sensor_data, on=\"sensor_id\")\n",
    "pedestrian_location_sensor_data\n",
    "\n",
    "# Remove unwanted columns\n",
    "pedestrian_location_sensor_data = pedestrian_location_sensor_data.drop(columns=[\"installation_date\",\"location\",\"note\"])\n",
    "del pedestrian_location_sensor_data[\"Unnamed: 0\"]"
   ]
  },
  {
   "cell_type": "markdown",
   "id": "73a904ef",
   "metadata": {},
   "source": [
    "### Create a CSV file of the merged data"
   ]
  },
  {
   "cell_type": "code",
   "execution_count": null,
   "id": "50420e26",
   "metadata": {},
   "outputs": [],
   "source": [
    "# Save to csv file\n",
    "pedestrian_location_sensor_data.to_csv(\"Melbourne City Council Data/pedestrian_location_sensor_data.csv\", index=False)"
   ]
  },
  {
   "cell_type": "markdown",
   "id": "cafcf5a2",
   "metadata": {},
   "source": [
    "### Find Pedestrian Activity by Postcode per month"
   ]
  },
  {
   "cell_type": "code",
   "execution_count": null,
   "id": "df3f9b14",
   "metadata": {},
   "outputs": [],
   "source": [
    "# Sum the pedestrian traffic by postcode\n",
    "pedestrian_location_sensor_data_sum = pedestrian_location_sensor_data.groupby(\"Postcode\").sum()\n",
    "\n",
    "# Get rid of unwanted columns\n",
    "pedestrian_location_sensor_data_sum = pedestrian_location_sensor_data_sum.drop(columns=[\"sensor_id\",\"latitude\",\"longitude\"])\n",
    "\n",
    "#  Show results\n",
    "pedestrian_location_sensor_data_sum"
   ]
  },
  {
   "cell_type": "code",
   "execution_count": null,
   "id": "c259737d",
   "metadata": {},
   "outputs": [],
   "source": [
    "# Sort the values of the columns\n",
    "pedestrian_location_sensor_data_sum = pedestrian_location_sensor_data_sum[['August 2019', 'September 2019',\n",
    "                                                                           'October 2019', 'November 2019', 'December 2019',\n",
    "                                                                           'January 2020', 'February 2020', 'March 2020',\n",
    "                                                                           'April 2020', 'May 2020', 'June 2020',\n",
    "                                                                           'July 2020', 'August 2020', 'September 2020',\n",
    "                                                                           'October 2020', 'November 2020', 'December 2020', \n",
    "                                                                           'January 2021','February 2021', 'March 2021',\n",
    "                                                                           'April 2021', 'May 2021', 'June 2021',\n",
    "                                                                           'July 2021', 'August 2021'\n",
    "                                                                          ]]\n",
    "# Transpose the data for mapping\n",
    "df = pedestrian_location_sensor_data_sum.T\n",
    "\n",
    "# Fix the names and columns\n",
    "df = df.reset_index()\n",
    "df = df.rename(columns={\"index\": \"Date\"})\n",
    "# Fix the name of the index\n",
    "df = df.rename_axis(None, axis=1)\n",
    "df"
   ]
  },
  {
   "cell_type": "markdown",
   "id": "1238d08f",
   "metadata": {},
   "source": [
    "#### Save as a CSV File"
   ]
  },
  {
   "cell_type": "code",
   "execution_count": 12,
   "id": "84edaa5f",
   "metadata": {},
   "outputs": [],
   "source": [
    "# Save as a csv\n",
    "df.to_csv(\"Melbourne City Council Data/Pedestrian_Activity_by_Postcode_per_month.csv\", index=False)"
   ]
  },
  {
   "cell_type": "markdown",
   "id": "6506619a",
   "metadata": {},
   "source": [
    "### Pedestrian activity shortly after the end of JobKeeper (April 2021 upto and including August 2021)"
   ]
  },
  {
   "cell_type": "code",
   "execution_count": null,
   "id": "1a319521",
   "metadata": {},
   "outputs": [],
   "source": [
    "# Get the data\n",
    "data = pd.read_csv(\"Melbourne City Council Data/Pedestrian_Activity_by_Postcode_per_month.csv\")\n",
    "# Filter the data\n",
    "after_jobkeeper = data.loc[(data[\"Date\"] == \"April 2021\") |\n",
    "                           (data[\"Date\"] == \"May 2021\") |\n",
    "                           (data[\"Date\"] == \"June 2021\") |\n",
    "                           (data[\"Date\"] == \"July 2021\") |\n",
    "                           (data[\"Date\"] == \"August 2021\")\n",
    "                           ]\n",
    "\n",
    "after_jobkeeper"
   ]
  },
  {
   "cell_type": "markdown",
   "id": "2cc6e3cd",
   "metadata": {},
   "source": [
    "##### Save as a CSV File"
   ]
  },
  {
   "cell_type": "code",
   "execution_count": null,
   "id": "3227941a",
   "metadata": {},
   "outputs": [],
   "source": [
    "# Send to a csv\n",
    "after_jobkeeper.to_csv(\"Melbourne City Council Data/after_jobkeeper_pedestrian_count.csv\", index=False)"
   ]
  },
  {
   "cell_type": "markdown",
   "id": "14170e8f",
   "metadata": {},
   "source": [
    "### Pedestrian activity before the beginning of JobKeeper (August 2019 until the end of March 2020)"
   ]
  },
  {
   "cell_type": "code",
   "execution_count": null,
   "id": "cc2dead3",
   "metadata": {},
   "outputs": [],
   "source": [
    "# Get the data\n",
    "data = pd.read_csv(\"Melbourne City Council Data/Pedestrian_Activity_by_Postcode_per_month.csv\")\n",
    "# Filter the data\n",
    "before_jobkeeper = data.loc[(data[\"Date\"] == \"August 2019\") |\n",
    "                           (data[\"Date\"] == \"September 2019\") |\n",
    "                           (data[\"Date\"] == \"October 2019\") |\n",
    "                           (data[\"Date\"] == \"November 2019\") |\n",
    "                           (data[\"Date\"] == \"December 2019\") |\n",
    "                            (data[\"Date\"] == \"January 2020\") |\n",
    "                            (data[\"Date\"] == \"February 2020\") |\n",
    "                            (data[\"Date\"] == \"March 2020\")\n",
    "                           ]"
   ]
  },
  {
   "cell_type": "markdown",
   "id": "a1828bdd",
   "metadata": {},
   "source": [
    "##### Save as a CSV File"
   ]
  },
  {
   "cell_type": "code",
   "execution_count": null,
   "id": "4711c0bc",
   "metadata": {},
   "outputs": [],
   "source": [
    "# Send to a csv\n",
    "before_jobkeeper.to_csv(\"Melbourne City Council Data/before_jobkeeper_pedestrian_count.csv\", index=False)"
   ]
  },
  {
   "cell_type": "markdown",
   "id": "08c839de",
   "metadata": {},
   "source": [
    "### Pedestrian Traffic during JobKeeper"
   ]
  },
  {
   "cell_type": "code",
   "execution_count": null,
   "id": "cf654ef2",
   "metadata": {},
   "outputs": [],
   "source": [
    "# Get the data\n",
    "data = pd.read_csv(\"Melbourne City Council Data/Pedestrian_Activity_by_Postcode_per_month.csv\")\n",
    "\n",
    "# Create a list of all the JobKeeper Dates\n",
    "date_list = ['April 2020', 'May 2020', 'June 2020', 'July 2020', 'August 2020', 'September 2020', \n",
    "             'October 2020', 'November 2020', 'December 2020', 'January 2021','February 2021', 'March 2021']\n",
    "\n",
    "# Filter the data in the the JobKeeper dates\n",
    "jobkeeper_pedestrian_data = data.loc[(data[\"Date\"].isin(date_list))]\n",
    "\n",
    "jobkeeper_pedestrian_data.to_csv(\"Melbourne City Council Data/during_jobkeeper_pedestrian_count.csv\",index=False)"
   ]
  },
  {
   "cell_type": "code",
   "execution_count": null,
   "id": "f61e760f",
   "metadata": {},
   "outputs": [],
   "source": []
  },
  {
   "cell_type": "code",
   "execution_count": null,
   "id": "0f947871",
   "metadata": {},
   "outputs": [],
   "source": []
  },
  {
   "cell_type": "markdown",
   "id": "91b451b5",
   "metadata": {},
   "source": [
    "# Job Keeper"
   ]
  },
  {
   "cell_type": "markdown",
   "id": "0739ff4d",
   "metadata": {},
   "source": [
    "### Obtain and filter jobkeeper data by the Postcodes found in the Pedestrian Dataset"
   ]
  },
  {
   "cell_type": "code",
   "execution_count": 2,
   "id": "27c352d8",
   "metadata": {},
   "outputs": [],
   "source": [
    "# Get the data\n",
    "first_phase = pd.read_excel(\"jobkeeper data/jobkeeperdata.xlsx\", sheet_name='First Phase',header=1, usecols=\"A:G\")\n",
    "extension_quarter1 = pd.read_excel(\"jobkeeper data/jobkeeperdata.xlsx\", sheet_name='Extension - First Quarter',header=1, usecols=\"A:D\")\n",
    "extension_quarter2 = pd.read_excel(\"jobkeeper data/jobkeeperdata.xlsx\", sheet_name='Extension - Second Quarter',header=1, usecols=\"A:D\")\n",
    "\n",
    "# Save all of them to csv sheets\n",
    "first_phase.to_csv(\"jkd_first_phase.csv\", index=False)\n",
    "extension_quarter1.to_csv(\"jobkeeper data/jkd_extension_quarter1.csv\", index=False)\n",
    "extension_quarter2.to_csv(\"jobkeeper data/jkd_extension_quarter2.csv\", index=False)"
   ]
  },
  {
   "cell_type": "code",
   "execution_count": 3,
   "id": "d2160e8b",
   "metadata": {},
   "outputs": [],
   "source": [
    "# Get the data\n",
    "first_phase_data = pd.read_csv(\"jobkeeper data/jkd_first_phase.csv\")\n",
    "first_extension_data = pd.read_csv(\"jobkeeper data/jkd_extension_quarter1.csv\")\n",
    "second_extension_data = pd.read_csv(\"jobkeeper data/jkd_extension_quarter2.csv\")\n",
    "\n",
    "# Convert the Postcodes of each dataFrame to strings\n",
    "first_phase_data['Postcode'] = pd.Series(first_phase_data['Postcode'], dtype=pd.StringDtype())\n",
    "first_extension_data['Postcode'] = pd.Series(first_extension_data['Postcode'], dtype=pd.StringDtype())\n",
    "second_extension_data['Postcode'] = pd.Series(second_extension_data['Postcode'], dtype=pd.StringDtype())\n",
    "\n",
    "# Cut the postcodes to the right length\n",
    "first_phase_data['Postcode'] = first_phase_data['Postcode'].str.slice(start=2)\n",
    "first_extension_data['Postcode'] = first_extension_data['Postcode'].str.slice(start=2)\n",
    "second_extension_data['Postcode'] = second_extension_data['Postcode'].str.slice(start=2)"
   ]
  },
  {
   "cell_type": "code",
   "execution_count": 5,
   "id": "46f895a7",
   "metadata": {},
   "outputs": [],
   "source": [
    "# Get all the first phase data\n",
    "MCC_first_phase_data = first_phase_data.loc[(first_phase_data[\"Postcode\"] == \"3000\") |\n",
    "                                            (first_phase_data[\"Postcode\"] == \"3004\") |\n",
    "                                            (first_phase_data[\"Postcode\"] == \"3006\") |\n",
    "                                            (first_phase_data[\"Postcode\"] == \"3008\") |\n",
    "                                            (first_phase_data[\"Postcode\"] == \"3010\") |\n",
    "                                            (first_phase_data[\"Postcode\"] == \"3031\") |\n",
    "                                            (first_phase_data[\"Postcode\"] == \"3051\") |\n",
    "                                            (first_phase_data[\"Postcode\"] == \"3052\") |\n",
    "                                            (first_phase_data[\"Postcode\"] == \"3053\")\n",
    "                                           ]\n",
    "\n",
    "# Get all the first extension data\n",
    "MCC_first_extension_data = first_extension_data.loc[\n",
    "                                            (first_extension_data[\"Postcode\"] == \"3000\") |\n",
    "                                            (first_extension_data[\"Postcode\"] == \"3004\") |\n",
    "                                            (first_extension_data[\"Postcode\"] == \"3006\") |\n",
    "                                            (first_extension_data[\"Postcode\"] == \"3008\") |\n",
    "                                            (first_extension_data[\"Postcode\"] == \"3010\") |\n",
    "                                            (first_extension_data[\"Postcode\"] == \"3031\") |\n",
    "                                            (first_extension_data[\"Postcode\"] == \"3051\") |\n",
    "                                            (first_extension_data[\"Postcode\"] == \"3052\") |\n",
    "                                            (first_extension_data[\"Postcode\"] == \"3053\")\n",
    "                                           ]\n",
    "\n",
    "# # Get all the second extension data\n",
    "MCC_second_extension_data = second_extension_data.loc[(second_extension_data[\"Postcode\"] == \"3000\") |\n",
    "                                            (second_extension_data[\"Postcode\"] == \"3004\") |\n",
    "                                            (second_extension_data[\"Postcode\"] == \"3006\") |\n",
    "                                            (second_extension_data[\"Postcode\"] == \"3008\") |\n",
    "                                            (second_extension_data[\"Postcode\"] == \"3010\") |\n",
    "                                            (second_extension_data[\"Postcode\"] == \"3031\") |\n",
    "                                            (second_extension_data[\"Postcode\"] == \"3051\") |\n",
    "                                            (second_extension_data[\"Postcode\"] == \"3052\") |\n",
    "                                            (second_extension_data[\"Postcode\"] == \"3053\")\n",
    "                                           ]\n",
    "\n",
    "## Merge the data frames\n",
    "application_counts = MCC_first_phase_data.merge(MCC_first_extension_data, on=\"Postcode\").merge(MCC_second_extension_data, on=\"Postcode\")\n",
    "\n",
    "application_counts = application_counts.rename(columns={\"April Application Count\": \"April 2020\",\n",
    "                                                       \"May Application Count\": \"May 2020\",\n",
    "                                                        \"June Application Count\": \"June 2020\",\n",
    "                                                        \"July Application Count\": \"July 2020\",\n",
    "                                                        \"August Application Count\": \"August 2020\",\n",
    "                                                        \"September Application Count\": \"September 2020\",\n",
    "                                                        \"October Application Count\": \"October 2020\",\n",
    "                                                        \"November Application Count\": \"November 2020\",\n",
    "                                                        \"December Application Count\": \"Decemeber 2020\",\n",
    "                                                        \"January Application Count\": \"January 2021\",\n",
    "                                                        \"February Application Count\": \"February 2021\",\n",
    "                                                        \"March Application Count\": \"March 2021\"\n",
    "                                                       })\n",
    "\n"
   ]
  },
  {
   "cell_type": "markdown",
   "id": "24b06050",
   "metadata": {},
   "source": [
    "### Create a new CSV file with the filtered JobKeeper data"
   ]
  },
  {
   "cell_type": "code",
   "execution_count": 10,
   "id": "9b1a2bd9",
   "metadata": {},
   "outputs": [],
   "source": [
    "# Save the file to a csv\n",
    "application_counts.to_csv(\"jobkeeper data/application_counts.csv\", index=False)"
   ]
  },
  {
   "cell_type": "markdown",
   "id": "ccc9c6d5",
   "metadata": {},
   "source": []
  },
  {
   "cell_type": "code",
   "execution_count": null,
   "id": "a098a8eb",
   "metadata": {},
   "outputs": [],
   "source": []
  }
 ],
 "metadata": {
  "kernelspec": {
   "display_name": "Python 3",
   "language": "python",
   "name": "python3"
  },
  "language_info": {
   "codemirror_mode": {
    "name": "ipython",
    "version": 3
   },
   "file_extension": ".py",
   "mimetype": "text/x-python",
   "name": "python",
   "nbconvert_exporter": "python",
   "pygments_lexer": "ipython3",
   "version": "3.8.8"
  }
 },
 "nbformat": 4,
 "nbformat_minor": 5
}

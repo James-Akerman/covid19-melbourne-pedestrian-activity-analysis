{
 "cells": [
  {
   "cell_type": "code",
   "execution_count": 10,
   "id": "17b0e924",
   "metadata": {},
   "outputs": [],
   "source": [
    "# Set up\n",
    "import pandas as pd\n",
    "from sodapy import Socrata\n",
    "\n",
    "MyAppToken = \"INSERT API TOKEN HERE!\"\n"
   ]
  },
  {
   "cell_type": "code",
   "execution_count": 22,
   "id": "d134ccab",
   "metadata": {},
   "outputs": [],
   "source": [
    "# Pedestrian Counting System - Monthly (counts per hour) Example\n",
    "\n",
    "# Resource - https://dev.socrata.com/foundry/data.melbourne.vic.gov.au/b2ak-trbp\n",
    "\n",
    "client = Socrata(\"data.melbourne.vic.gov.au\", MyAppToken )\n",
    "pedestrian_count_dataset_id = \"b2ak-trbp\"\n",
    "# First 2000 records\n",
    "pedestrian_count_request = client.get(pedestrian_count_dataset_id, limit=4000000)\n",
    "# Convert to pandas DataFrame\n",
    "pedestrian_count_df = pd.DataFrame.from_records(pedestrian_count_request)"
   ]
  },
  {
   "cell_type": "code",
   "execution_count": 24,
   "id": "6b7c2828",
   "metadata": {},
   "outputs": [
    {
     "data": {
      "text/plain": [
       "(3860331, 10)"
      ]
     },
     "execution_count": 24,
     "metadata": {},
     "output_type": "execute_result"
    }
   ],
   "source": [
    "# Print the Result\n",
    "pedestrian_count_df.shape"
   ]
  },
  {
   "cell_type": "code",
   "execution_count": 25,
   "id": "ccc1178e",
   "metadata": {},
   "outputs": [],
   "source": [
    "# Pedestrian Counting System - Sensor Locations\n",
    "# Resource - https://dev.socrata.com/foundry/data.melbourne.vic.gov.au/h57g-5234\n",
    "client = Socrata(\"data.melbourne.vic.gov.au\", MyAppToken )\n",
    "\n",
    "sensor_location_id = \"h57g-5234\"\n",
    "\n",
    "# First 2000 records - Pedestrian Counting System - Monthly (counts per hour) Example\n",
    "sensor_location_id_request = client.get(sensor_location_id, limit=100)\n",
    "# Convert to pandas DataFrame\n",
    "sensor_location_df = pd.DataFrame.from_records(sensor_location_id_request)"
   ]
  },
  {
   "cell_type": "code",
   "execution_count": 26,
   "id": "86fe732a",
   "metadata": {},
   "outputs": [
    {
     "data": {
      "text/plain": [
       "(77, 11)"
      ]
     },
     "execution_count": 26,
     "metadata": {},
     "output_type": "execute_result"
    }
   ],
   "source": [
    "# Print the Result\n",
    "sensor_location_df.shape"
   ]
  },
  {
   "cell_type": "code",
   "execution_count": null,
   "id": "59a693f8",
   "metadata": {},
   "outputs": [],
   "source": []
  }
 ],
 "metadata": {
  "kernelspec": {
   "display_name": "Python 3",
   "language": "python",
   "name": "python3"
  },
  "language_info": {
   "codemirror_mode": {
    "name": "ipython",
    "version": 3
   },
   "file_extension": ".py",
   "mimetype": "text/x-python",
   "name": "python",
   "nbconvert_exporter": "python",
   "pygments_lexer": "ipython3",
   "version": "3.8.8"
  }
 },
 "nbformat": 4,
 "nbformat_minor": 5
}
